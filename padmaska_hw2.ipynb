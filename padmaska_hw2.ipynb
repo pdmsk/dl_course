{
  "cells": [
    {
      "cell_type": "markdown",
      "metadata": {
        "id": "4Ktv_Pk2DWBh"
      },
      "source": [
        "## Lab assignment 02"
      ]
    },
    {
      "cell_type": "markdown",
      "metadata": {
        "id": "GahOX3ElDWBi"
      },
      "source": [
        "### Neural Machine Translation in the wild\n",
        "In the third homework you are supposed to get the best translation you can for the EN-RU translation task.\n",
        "\n",
        "Basic approach using RNNs as encoder and decoder is implemented for you.\n",
        "\n",
        "Your ultimate task is to use the techniques we've covered, e.g.\n",
        "\n",
        "* Optimization enhancements (e.g. learning rate decay)\n",
        "\n",
        "* Transformer/CNN/<whatever you select> encoder (with or without positional encoding)\n",
        "\n",
        "* attention/self-attention mechanism\n",
        "\n",
        "* pretraining the language models (for decoder and encoder)\n",
        "\n",
        "* or just fine-tunning BART/ELECTRA/... ;)\n",
        "\n",
        "to improve the translation quality.\n",
        "\n",
        "__Please use at least three different approaches/models and compare them (translation quality/complexity/training and evaluation time).__\n",
        "\n",
        "Write down some summary on your experiments and illustrate it with convergence plots/metrics and your thoughts. Just like you would approach a real problem."
      ]
    },
    {
      "cell_type": "code",
      "execution_count": null,
      "metadata": {
        "id": "4_8zqFeqDWBk"
      },
      "outputs": [],
      "source": [
        "# Baseline solution BLEU score is quite low. Try to achieve at least __21__ BLEU on the test set.\n",
        "# The checkpoints are:\n",
        "\n",
        "# * __21__ - minimal score to submit the homework, 30% of points\n",
        "\n",
        "# * __25__ - good score, 70% of points\n",
        "\n",
        "# * __27__ - excellent score, 100% of points"
      ]
    },
    {
      "cell_type": "code",
      "source": [],
      "metadata": {
        "id": "VpjdfD9pGZwP"
      },
      "execution_count": null,
      "outputs": []
    },
    {
      "cell_type": "markdown",
      "metadata": {
        "id": "KgSK3RZrDWBl"
      },
      "source": [
        "### WordPunctTokenizer + Attention"
      ]
    },
    {
      "cell_type": "code",
      "source": [
        "!pip3 install torch>=1.3.0\n",
        "!pip3 install subword-nmt &> log\n",
        "\n",
        "!wget https://raw.githubusercontent.com/neychev/made_nlp_course/master/datasets/Machine_translation_EN_RU/data.txt -nc\n",
        "!pip install datasets\n",
        "!pip install transformers[torch]\n",
        "!pip install accelerate -U\n",
        "!pip install transformers==3.2.0\n",
        "!pip install transformers[sentencepiece]\n",
        "!pip install sentencepiece"
      ],
      "metadata": {
        "id": "BFNYVvTrWhFr"
      },
      "execution_count": null,
      "outputs": []
    },
    {
      "cell_type": "code",
      "source": [
        "!pip3 install torch>=1.3.0\n",
        "!pip3 install subword-nmt &> log"
      ],
      "metadata": {
        "id": "EvjZ-g-28p16"
      },
      "execution_count": null,
      "outputs": []
    },
    {
      "cell_type": "code",
      "source": [
        "from sklearn.model_selection import train_test_split\n",
        "\n",
        "data = []\n",
        "for line in open('data.txt'):\n",
        "    data.append(line.strip().split('\\t'))\n",
        "\n",
        "train_data, val_data = train_test_split(data, test_size=0.2,\n",
        "                                                          random_state=42)"
      ],
      "metadata": {
        "id": "dVho65cqThb_"
      },
      "execution_count": null,
      "outputs": []
    },
    {
      "cell_type": "code",
      "source": [
        "train_data[0]"
      ],
      "metadata": {
        "colab": {
          "base_uri": "https://localhost:8080/"
        },
        "id": "tEtoSc-XWjyp",
        "outputId": "792cc18e-9df1-4d6a-d3e5-83c901bddaa8"
      },
      "execution_count": null,
      "outputs": [
        {
          "output_type": "execute_result",
          "data": {
            "text/plain": [
              "['In Liverpool’s business district, Days Inn Liverpool is a 10-minute walk from the famous Albert Dock.',\n",
              " 'Отель Days Inn Liverpool находится в деловом районе Ливерпуля, в 10 минутах ходьбы от знаменитого Альберт-Дока.']"
            ]
          },
          "metadata": {},
          "execution_count": 3
        }
      ]
    },
    {
      "cell_type": "code",
      "execution_count": null,
      "metadata": {
        "id": "gH1iYM5-cLaP"
      },
      "outputs": [],
      "source": [
        "from nltk.tokenize import WordPunctTokenizer\n",
        "\n",
        "\n",
        "tokenizer = WordPunctTokenizer()\n",
        "src, trg = train_data[0]"
      ]
    },
    {
      "cell_type": "code",
      "source": [
        "src"
      ],
      "metadata": {
        "colab": {
          "base_uri": "https://localhost:8080/",
          "height": 36
        },
        "id": "F0u3k5ntAeYc",
        "outputId": "ca6d95ff-9415-48ce-92b1-4837afeb973c"
      },
      "execution_count": null,
      "outputs": [
        {
          "output_type": "execute_result",
          "data": {
            "text/plain": [
              "'In Liverpool’s business district, Days Inn Liverpool is a 10-minute walk from the famous Albert Dock.'"
            ],
            "application/vnd.google.colaboratory.intrinsic+json": {
              "type": "string"
            }
          },
          "metadata": {},
          "execution_count": 5
        }
      ]
    },
    {
      "cell_type": "code",
      "execution_count": null,
      "metadata": {
        "colab": {
          "base_uri": "https://localhost:8080/"
        },
        "outputId": "03e4421a-6763-496c-8ec8-be071d73e651",
        "id": "yBV3O3nzcLaQ"
      },
      "outputs": [
        {
          "output_type": "stream",
          "name": "stdout",
          "text": [
            "['in', 'liverpool', '’', 's', 'business', 'district', ',', 'days', 'inn', 'liverpool', 'is', 'a', '10', '-', 'minute', 'walk', 'from', 'the', 'famous', 'albert', 'dock', '.']\n",
            "['отель', 'days', 'inn', 'liverpool', 'находится', 'в', 'деловом', 'районе', 'ливерпуля', ',', 'в', '10', 'минутах', 'ходьбы', 'от', 'знаменитого', 'альберт', '-', 'дока', '.']\n"
          ]
        }
      ],
      "source": [
        "def tokenize(sent):\n",
        "    return tokenizer.tokenize(sent.rstrip().lower())\n",
        "\n",
        "\n",
        "print(tokenize(src))\n",
        "print(tokenize(trg))"
      ]
    },
    {
      "cell_type": "code",
      "execution_count": null,
      "metadata": {
        "id": "clwTk-m_cLaQ"
      },
      "outputs": [],
      "source": [
        "from collections import Counter\n",
        "\n",
        "from torchtext.vocab import vocab as Vocab\n",
        "\n",
        "\n",
        "src_counter = Counter()\n",
        "trg_counter = Counter()\n",
        "for src, trg in train_data:\n",
        "    src_counter.update(tokenize(src))\n",
        "    trg_counter.update(tokenize(trg))\n",
        "\n",
        "src_vocab = Vocab(src_counter, min_freq=2)\n",
        "trg_vocab = Vocab(trg_counter, min_freq=2)"
      ]
    },
    {
      "cell_type": "code",
      "source": [
        "len(src_vocab), len(trg_vocab)"
      ],
      "metadata": {
        "colab": {
          "base_uri": "https://localhost:8080/"
        },
        "outputId": "cb2db197-4b67-4687-cf0c-56fd6510346b",
        "id": "zH_RfRl9cLaQ"
      },
      "execution_count": null,
      "outputs": [
        {
          "output_type": "execute_result",
          "data": {
            "text/plain": [
              "(10122, 14112)"
            ]
          },
          "metadata": {},
          "execution_count": 8
        }
      ]
    },
    {
      "cell_type": "code",
      "execution_count": null,
      "metadata": {
        "id": "084wt56PcLaQ"
      },
      "outputs": [],
      "source": [
        "unk_token = \"<unk>\"\n",
        "\n",
        "for vocab in [src_vocab, trg_vocab]:\n",
        "    if unk_token not in vocab:\n",
        "        vocab.insert_token(unk_token, index=0)\n",
        "        vocab.set_default_index(0)"
      ]
    },
    {
      "cell_type": "code",
      "execution_count": null,
      "metadata": {
        "id": "fAUlDylzcLaQ"
      },
      "outputs": [],
      "source": [
        "sos_token, eos_token, pad_token = \"<sos>\", \"<eos>\", \"<pad>\"\n",
        "specials = [sos_token, eos_token, pad_token]\n",
        "for vocab in [src_vocab, trg_vocab]:\n",
        "    for token in specials:\n",
        "        if token not in vocab:\n",
        "            vocab.append_token(token)"
      ]
    },
    {
      "cell_type": "code",
      "execution_count": null,
      "metadata": {
        "colab": {
          "base_uri": "https://localhost:8080/"
        },
        "outputId": "16d84ce5-63de-4df9-d125-f69fa1bb99e4",
        "id": "72-nzlz1cLaQ"
      },
      "outputs": [
        {
          "output_type": "stream",
          "name": "stdout",
          "text": [
            "Unique tokens in source (de) vocabulary: 10126\n",
            "Unique tokens in target (en) vocabulary: 14116\n"
          ]
        }
      ],
      "source": [
        "print(f\"Unique tokens in source (de) vocabulary: {len(src_vocab)}\")\n",
        "print(f\"Unique tokens in target (en) vocabulary: {len(trg_vocab)}\")"
      ]
    },
    {
      "cell_type": "code",
      "execution_count": null,
      "metadata": {
        "colab": {
          "base_uri": "https://localhost:8080/"
        },
        "outputId": "859936bb-02cd-4c05-877c-6dd0d7827a32",
        "id": "AJmbGJd-cLaQ"
      },
      "outputs": [
        {
          "output_type": "execute_result",
          "data": {
            "text/plain": [
              "[('<sos>', 14113),\n",
              " ('в', 6),\n",
              " ('5', 84),\n",
              " ('км', 32),\n",
              " ('от', 14),\n",
              " ('апартаментов', 180),\n",
              " ('расположена', 82),\n",
              " ('деревня', 2289),\n",
              " ('лутра', 13916),\n",
              " ('.', 19),\n",
              " ('расстояние', 20),\n",
              " ('до', 21),\n",
              " ('города', 640),\n",
              " ('митилена', 0),\n",
              " ('составляет', 30),\n",
              " ('13', 3191),\n",
              " ('км', 32),\n",
              " ('.', 19),\n",
              " ('<eos>', 14114)]"
            ]
          },
          "metadata": {},
          "execution_count": 12
        }
      ],
      "source": [
        "# Tokenize sentence and add <sos> and <eos> special tokens.\n",
        "tokenized = [sos_token] + tokenize(trg) + [eos_token]\n",
        "\n",
        "# Transform tokens into indices using our vocab.\n",
        "encoded = [trg_vocab[tok] for tok in tokenized]\n",
        "\n",
        "[(tok, idx) for tok, idx in zip(tokenized, encoded)]"
      ]
    },
    {
      "cell_type": "code",
      "execution_count": null,
      "metadata": {
        "colab": {
          "base_uri": "https://localhost:8080/"
        },
        "outputId": "d6ff33e4-0d8a-4498-8f3a-56a1b5e28944",
        "id": "L7PzkHVccLaR"
      },
      "outputs": [
        {
          "output_type": "stream",
          "name": "stdout",
          "text": [
            "[10124, 21, 30, 2332, 50, 10, 3204, 173, 639, 17, 79, 7, 83, 30, 86, 10, 9946, 173, 722, 17, 10123]\n",
            "[14113, 6, 84, 32, 14, 180, 82, 2289, 13916, 19, 20, 21, 640, 0, 30, 3191, 32, 19, 14114]\n"
          ]
        }
      ],
      "source": [
        "def encode(sent, vocab):\n",
        "    tokenized = [sos_token] + tokenize(sent) + [eos_token]\n",
        "    return [vocab[tok] for tok in tokenized]\n",
        "print(encode(src, src_vocab)[::-1])\n",
        "print(encode(trg, trg_vocab))"
      ]
    },
    {
      "cell_type": "code",
      "execution_count": null,
      "metadata": {
        "colab": {
          "base_uri": "https://localhost:8080/"
        },
        "outputId": "e6a466d4-f544-41f4-99e3-8de70e92117b",
        "id": "x8Nsha3VcLaR"
      },
      "outputs": [
        {
          "output_type": "execute_result",
          "data": {
            "text/plain": [
              "(torch.Size([91, 32]), torch.Size([66, 32]))"
            ]
          },
          "metadata": {},
          "execution_count": 14
        }
      ],
      "source": [
        "import torch\n",
        "from torch.nn.utils.rnn import pad_sequence\n",
        "from torch.utils.data import DataLoader\n",
        "\n",
        "\n",
        "def collate_batch(batch):\n",
        "    src_list, trg_list = [], []\n",
        "    for src, trg in batch:\n",
        "        src_encoded = encode(src, src_vocab)[::-1]\n",
        "        src_list.append(torch.tensor(src_encoded))\n",
        "\n",
        "        trg_encoded = encode(trg, trg_vocab)\n",
        "        trg_list.append(torch.tensor(trg_encoded))\n",
        "\n",
        "    src_padded = pad_sequence(src_list, padding_value=src_vocab[pad_token])\n",
        "    trg_padded = pad_sequence(trg_list, padding_value=trg_vocab[pad_token])\n",
        "\n",
        "    return src_padded, trg_padded\n",
        "\n",
        "\n",
        "batch_size = 32\n",
        "train_dataloader = DataLoader(train_data, batch_size, shuffle=True, collate_fn=collate_batch)\n",
        "src_batch, trg_batch = next(iter(train_dataloader))\n",
        "src_batch.shape, trg_batch.shape"
      ]
    },
    {
      "cell_type": "code",
      "execution_count": null,
      "metadata": {
        "id": "tNRlevFacLaR"
      },
      "outputs": [],
      "source": [
        "val_dataloader = DataLoader(val_data, batch_size, collate_fn=collate_batch)"
      ]
    },
    {
      "cell_type": "code",
      "execution_count": null,
      "metadata": {
        "id": "jy4kIST2cLaR"
      },
      "outputs": [],
      "source": [
        "from torch import nn\n",
        "\n",
        "\n",
        "class Encoder(nn.Module):\n",
        "    def __init__(self, input_dim, emb_dim, enc_hid_dim, dec_hid_dim, dropout):\n",
        "        super().__init__()\n",
        "\n",
        "        self.embedding = nn.Embedding(input_dim, emb_dim)\n",
        "\n",
        "        self.rnn = nn.GRU(emb_dim, enc_hid_dim, bidirectional = True)\n",
        "\n",
        "        self.fc = nn.Linear(enc_hid_dim * 2, dec_hid_dim)\n",
        "\n",
        "        self.dropout = nn.Dropout(dropout)\n",
        "\n",
        "    def forward(self, src):\n",
        "\n",
        "\n",
        "        embedded = self.dropout(self.embedding(src))\n",
        "\n",
        "        outputs, hidden = self.rnn(embedded)\n",
        "        hidden = torch.tanh(self.fc(torch.cat((hidden[-2,:,:], hidden[-1,:,:]), dim = 1)))\n",
        "\n",
        "\n",
        "        return outputs, hidden"
      ]
    },
    {
      "cell_type": "code",
      "execution_count": null,
      "metadata": {
        "id": "uyLQc6oXcLaR"
      },
      "outputs": [],
      "source": [
        "class Attention(nn.Module):\n",
        "    def __init__(self, enc_hid_dim, dec_hid_dim):\n",
        "        super().__init__()\n",
        "\n",
        "        self.attn = nn.Linear((enc_hid_dim * 2) + dec_hid_dim, dec_hid_dim)\n",
        "        self.v = nn.Linear(dec_hid_dim, 1, bias = False)\n",
        "\n",
        "    def forward(self, hidden, encoder_outputs):\n",
        "\n",
        "        batch_size = encoder_outputs.shape[1]\n",
        "        src_len = encoder_outputs.shape[0]\n",
        "        hidden = hidden.unsqueeze(1).repeat(1, src_len, 1)\n",
        "        encoder_outputs = encoder_outputs.permute(1, 0, 2)\n",
        "        energy = torch.tanh(self.attn(torch.cat((hidden, encoder_outputs), dim = 2)))\n",
        "        attention = self.v(energy).squeeze(2)\n",
        "\n",
        "        return F.softmax(attention, dim=1)"
      ]
    },
    {
      "cell_type": "code",
      "execution_count": null,
      "metadata": {
        "id": "ptJe80lJcLaS"
      },
      "outputs": [],
      "source": [
        "class Decoder(nn.Module):\n",
        "    def __init__(self, output_dim, emb_dim, enc_hid_dim, dec_hid_dim, dropout, attention):\n",
        "        super().__init__()\n",
        "\n",
        "        self.output_dim = output_dim\n",
        "        self.attention = attention\n",
        "\n",
        "        self.embedding = nn.Embedding(output_dim, emb_dim)\n",
        "\n",
        "        self.rnn = nn.GRU((enc_hid_dim * 2) + emb_dim, dec_hid_dim)\n",
        "\n",
        "        self.fc_out = nn.Linear((enc_hid_dim * 2) + dec_hid_dim + emb_dim, output_dim)\n",
        "\n",
        "        self.dropout = nn.Dropout(dropout)\n",
        "\n",
        "    def forward(self, input, hidden, encoder_outputs):\n",
        "\n",
        "\n",
        "        input = input.unsqueeze(0)\n",
        "        embedded = self.dropout(self.embedding(input))\n",
        "\n",
        "        a = self.attention(hidden, encoder_outputs)\n",
        "        a = a.unsqueeze(1)\n",
        "\n",
        "        encoder_outputs = encoder_outputs.permute(1, 0, 2)\n",
        "        weighted = torch.bmm(a, encoder_outputs)\n",
        "        weighted = weighted.permute(1, 0, 2)\n",
        "\n",
        "        rnn_input = torch.cat((embedded, weighted), dim = 2)\n",
        "\n",
        "        output, hidden = self.rnn(rnn_input, hidden.unsqueeze(0))\n",
        "        assert (output == hidden).all()\n",
        "\n",
        "        embedded = embedded.squeeze(0)\n",
        "        output = output.squeeze(0)\n",
        "        weighted = weighted.squeeze(0)\n",
        "\n",
        "        prediction = self.fc_out(torch.cat((output, weighted, embedded), dim = 1))\n",
        "\n",
        "        return prediction, hidden.squeeze(0), a"
      ]
    },
    {
      "cell_type": "code",
      "execution_count": null,
      "metadata": {
        "id": "UioYrWXZcLaS"
      },
      "outputs": [],
      "source": [
        "class Seq2Seq(nn.Module):\n",
        "    def __init__(self, encoder, decoder, device):\n",
        "        super().__init__()\n",
        "\n",
        "        self.encoder = encoder\n",
        "        self.decoder = decoder\n",
        "        self.device = device\n",
        "\n",
        "    def forward(self, src, trg, teacher_forcing_ratio = 0.5):\n",
        "\n",
        "\n",
        "        batch_size = src.shape[1]\n",
        "        trg_len = trg.shape[0]\n",
        "        trg_vocab_size = self.decoder.output_dim\n",
        "\n",
        "        outputs = torch.zeros(trg_len, batch_size, trg_vocab_size).to(self.device)\n",
        "        encoder_outputs, hidden = self.encoder(src)\n",
        "\n",
        "        input = trg[0,:]\n",
        "\n",
        "        for t in range(1, trg_len):\n",
        "            output, hidden, a = self.decoder(input, hidden, encoder_outputs)\n",
        "\n",
        "            outputs[t] = output\n",
        "\n",
        "            teacher_force = random.random() < teacher_forcing_ratio\n",
        "\n",
        "            top1 = output.argmax(1)\n",
        "\n",
        "            input = trg[t] if teacher_force else top1\n",
        "\n",
        "        return outputs"
      ]
    },
    {
      "cell_type": "code",
      "execution_count": null,
      "metadata": {
        "id": "-sS7sWhQcLaS"
      },
      "outputs": [],
      "source": [
        "device = torch.device(\"cuda:0\" if torch.cuda.is_available() else \"cpu\")\n",
        "\n",
        "INPUT_DIM = len(src_vocab)\n",
        "OUTPUT_DIM = len(trg_vocab)\n",
        "ENC_EMB_DIM = 256\n",
        "DEC_EMB_DIM = 256\n",
        "ENC_HID_DIM = 512\n",
        "DEC_HID_DIM = 512\n",
        "ENC_DROPOUT = 0.5\n",
        "DEC_DROPOUT = 0.5\n",
        "\n",
        "attn = Attention(ENC_HID_DIM, DEC_HID_DIM)\n",
        "enc = Encoder(INPUT_DIM, ENC_EMB_DIM, ENC_HID_DIM, DEC_HID_DIM, ENC_DROPOUT)\n",
        "dec = Decoder(OUTPUT_DIM, DEC_EMB_DIM, ENC_HID_DIM, DEC_HID_DIM, DEC_DROPOUT, attn)\n",
        "\n",
        "model = Seq2Seq(enc, dec, device).to(device)"
      ]
    },
    {
      "cell_type": "code",
      "execution_count": null,
      "metadata": {
        "colab": {
          "base_uri": "https://localhost:8080/"
        },
        "outputId": "6cdac720-cb30-4456-a12d-f460099f8d70",
        "id": "J3SirLCKcLaS"
      },
      "outputs": [
        {
          "output_type": "execute_result",
          "data": {
            "text/plain": [
              "14116"
            ]
          },
          "metadata": {},
          "execution_count": 21
        }
      ],
      "source": [
        "OUTPUT_DIM"
      ]
    },
    {
      "cell_type": "code",
      "execution_count": null,
      "metadata": {
        "colab": {
          "base_uri": "https://localhost:8080/"
        },
        "outputId": "4fc3a3e8-9f40-4774-f239-98ebc69c096d",
        "id": "WMuOSvC3cLaT"
      },
      "outputs": [
        {
          "output_type": "execute_result",
          "data": {
            "text/plain": [
              "Seq2Seq(\n",
              "  (encoder): Encoder(\n",
              "    (embedding): Embedding(10126, 256)\n",
              "    (rnn): GRU(256, 512, bidirectional=True)\n",
              "    (fc): Linear(in_features=1024, out_features=512, bias=True)\n",
              "    (dropout): Dropout(p=0.5, inplace=False)\n",
              "  )\n",
              "  (decoder): Decoder(\n",
              "    (attention): Attention(\n",
              "      (attn): Linear(in_features=1536, out_features=512, bias=True)\n",
              "      (v): Linear(in_features=512, out_features=1, bias=False)\n",
              "    )\n",
              "    (embedding): Embedding(14116, 256)\n",
              "    (rnn): GRU(1280, 512)\n",
              "    (fc_out): Linear(in_features=1792, out_features=14116, bias=True)\n",
              "    (dropout): Dropout(p=0.5, inplace=False)\n",
              "  )\n",
              ")"
            ]
          },
          "metadata": {},
          "execution_count": 22
        }
      ],
      "source": [
        "def init_weights(m):\n",
        "    for name, param in m.named_parameters():\n",
        "        if 'weight' in name:\n",
        "            nn.init.normal_(param.data, mean=0, std=0.01)\n",
        "        else:\n",
        "            nn.init.constant_(param.data, 0)\n",
        "\n",
        "model.apply(init_weights)"
      ]
    },
    {
      "cell_type": "code",
      "execution_count": null,
      "metadata": {
        "colab": {
          "base_uri": "https://localhost:8080/"
        },
        "outputId": "605dde3a-b0a0-450c-b94a-c8505132f3e7",
        "id": "ELZeTNGYcLaT"
      },
      "outputs": [
        {
          "output_type": "stream",
          "name": "stdout",
          "text": [
            "The model has 37,949,220 trainable parameters\n"
          ]
        }
      ],
      "source": [
        "def count_parameters(model):\n",
        "    return sum(p.numel() for p in model.parameters() if p.requires_grad)\n",
        "\n",
        "print(f'The model has {count_parameters(model):,} trainable parameters')"
      ]
    },
    {
      "cell_type": "code",
      "execution_count": null,
      "metadata": {
        "id": "RMxlZcw_cLaT"
      },
      "outputs": [],
      "source": [
        "from torch import optim\n",
        "\n",
        "optimizer = optim.Adam(model.parameters())"
      ]
    },
    {
      "cell_type": "code",
      "execution_count": null,
      "metadata": {
        "id": "JEsgEXqKcLaU"
      },
      "outputs": [],
      "source": [
        "criterion = nn.CrossEntropyLoss(ignore_index=trg_vocab[pad_token])"
      ]
    },
    {
      "cell_type": "code",
      "execution_count": null,
      "metadata": {
        "colab": {
          "base_uri": "https://localhost:8080/",
          "height": 49,
          "referenced_widgets": [
            "c15c6644a0584072a7cc09b9da830bf2",
            "bf16c386be204840b3cc6243f0f43d27",
            "1878544f34cf4729a22ded6dc9a7032a",
            "33e0d0e58b554de29805c9d1987506ad",
            "8c5fb3249eb3469a844ec41c5bd2b7e6",
            "8d9b4edcc1884b888b03a4d76f28471c",
            "9c29ebb6f1284f3ba6666188bcf13c9a",
            "9b7d22bcccba499881d828fe777899bf",
            "f53249ff443b47faabc572bf4eccae3f",
            "d75b57ab83ed427aac0292c4f177e2a3",
            "0a63335600f74b0296b7df38b80845cc",
            "80e640edaccf4950bdeda11c142ffe7f",
            "6321f77921de48fdb6404144b97d9d68",
            "0154f2a0f5004308a98f8fd6ebe50f86",
            "f99213b2d3d441b186796aaeaa8a02a4",
            "337b4f9e4405495592619af43e08ab77",
            "16863e6d05be4f10a79391531ca4b10d",
            "f2f63c36d373451a9ca849aa6207d3bb",
            "895c852fa2e542d8ae300b12c952f31a",
            "2593dc0ac2904e978e5b4de76ac7d988",
            "6476d842da8c46fdb5fa23e4f91456e8",
            "983b9315b2db48efa8e6a2742bcd7964",
            "4e10687d0cbd4a4995b140762aaeb310",
            "3f0653d0e7a94161854aa067d345596b",
            "813c9b244e96448da2e5ef3059641e98",
            "a0d22031e8b74482aa0404b463c9e990",
            "6b1ac6e6cea64625870073249e6c00e2",
            "0bfa33dec5414a7d9cab517a9f93e7a2",
            "050555057e104a1c853d3eb4539b2712",
            "c6175014e87d4c13b16d82917f57fbc4",
            "544823040c704f50940cf04786e8b0e7",
            "57dbf3299eb748fcaab04c5cad7c6679",
            "18c6d941df54448a88fcb158145c8aae",
            "e75282c2d4084e9b93ae8a1083fbea93",
            "bf64fd0d021d437cb65d14fe7f2f0922",
            "457bb74ba8994748870c7ac41b6c8a08",
            "3d7a59f9efef435e834fddd74ff322ad",
            "8b9fd59c94cd4151869eb9dc63878386",
            "d30995e1b27f417ea17e95f01bec38f8",
            "82a742c1b1c748d096d8a50a73c9ca8e",
            "3b89eabfea4646b1ae8e812ea15b73c8",
            "d792151513044c8dbb8944adfa42597a",
            "a49a079bfd744779a59af44139642582",
            "49183405fadb429594058629273cefba",
            "d785842ef33a475c88c3eba897c32e8b",
            "dd69d45599e04c2d86cac6fd537f26f7",
            "ddf58ec9c8994b09a926093ad50ff71a",
            "a6d841756bce4ea3a2531d6a614ea84d",
            "8c2c990198f2426080c0ee4ca85d0945",
            "d713040e5b1a416f8aea554ffd8da157",
            "18196139fc66475c8acb121dee597272",
            "dbf2d927c4f845e6ac568179c4aee16d",
            "74a9c234fe4244b696c9bcb843ca20df",
            "b5df169993cb48e0a4cfd3d01718bd79",
            "30f526acf03b4427ad134d77ad114797",
            "e9d8740c0ec84e75af4974b47a545bfc",
            "2bb2665a50e84a87ba7fece11e492265",
            "d18acd08f53d48f180adadaf06365182",
            "93b02159fb9248d7bddd11973a60c127",
            "7ada93dc2daa4b0dac8719699a8c6584",
            "db19a093d53346019e8883a3ff91183e",
            "ae89ea6412094653973413d940a83e39",
            "e3adbe727c3046c5932617d9d43753e5",
            "78e5abfd155c4aabb1819521e09263f4",
            "441218aff9284542b9c07155588a84d4",
            "6e2cf19b358d40e3a2277e2b8b6ec696",
            "6053a0868c054f4ba7dd2f323ced75d6",
            "574ca4f355264968bf88b5661276c370",
            "eb10a85657054e6691630bfbd1484d7e",
            "d5c1da14144e49cca265f9480e29916e",
            "e137f0650eb44c1da5f260a6f2b61739",
            "9b3a8ae5abd1403498d6432f66562d19",
            "b5bf9dbd3b2a48fcba5410d7baf851ae",
            "8d2ecbf01c9c46fba2a89011d26f0e6d",
            "943d7e4ff86942f9bf34584ce0aa8297",
            "f465bf11a94b491a862d9861c55f1dd8",
            "a9f2a8129aa749e992f1c6413052ed7c",
            "f6c0d92391884ba3beb3ed14640975d5",
            "e92e078f7cb0461ba041aa4337105344",
            "53c05970de9e4034a2f2abe8ee72a472",
            "2f1ba1e8ec7b4044ae85579957a3087c",
            "f48e11cedc8141978559433ee9b1c7f5",
            "baf05c65d87a4222886ec543c8280699",
            "dad229497d474b428cb736acc37a6ea5",
            "077c5735c60e45b8b61ba8ed0d0c0817",
            "6023b1443ed2459c83b5258da80e9cb2",
            "68ced5e3b55e440f9742827588f6a278",
            "266250f699884dd8bb965a5086fd1edd",
            "ca7804b57f2b4f929d36220f6a66e4db",
            "998234a1534e4eb6a151b5737ea77ff1",
            "43092f75fd2b4acab925373f71e5c97c",
            "2a642cc1018f4ff58797eba11f906298",
            "18a89de0fb5948f38e01a5d82f16f5c6",
            "98906964714741b6950e35ac45166e38",
            "19d083c23d6f4ced86467d6557bb9653",
            "51f072accfa1406aac313bfcdf5c6464",
            "da310cb8ba68434b9cd5954a6431cb85",
            "68c2b0180efd406c9e7623a6a15f9f8d",
            "ebfaa594de634fb391fda3eec6a87864",
            "ecba15dd46fb45a7a3107299c1b114f0",
            "385b946e486e47228159bf58db5725eb",
            "d76fac5543f942ff86c8f117cf1dbacc",
            "146524647a4f44a28fa1c3e940b3381b",
            "52433e6cf1794d319a2ec0f21f14d535",
            "e0f9b978cf09405491183d82f1a547b9",
            "f6c68fd3a5684f1898f4fa239e03bdba",
            "378ceae975e94f71b5d289705cecb093",
            "764c1129e86e435c8628883a8ce0bd23",
            "42c884c5b58c4c7396ba468173efe7fa",
            "2ad19b6dc8dc4aeebac9980a91554328",
            "0995e2b5495149449079698e311176be",
            "fb176bbd9cc04d2e97fc814658380e8b",
            "668448ad47bd41408f601ddad31c9258",
            "b21fde0d60ec48dc960f6eab771da001",
            "679637527791447785f365802fcbe169",
            "3013ef853c1546efa642b5589a5de63d",
            "b7ad5d0373b540ad9d84b069491f474f",
            "8bea972cd973432196427ee8e98d3e40",
            "2b216e71e10a4c25b62b7a71874d0063",
            "995e16e40b0b403bb1c60f2911eaca6b",
            "1b90ab7d13234e138c6a1957bfe975d3",
            "33ab4f149b7649eba5eac37193187a25",
            "be1cc827d03a4dc18a59d1f84890d995",
            "a7fecef098784f0195413720818faa32",
            "42d5b050918744978f3afa58cdbe019a",
            "b683917a69a14607b870ee60f078ca40",
            "c37fbcee462b468d850ac9c006c527cc",
            "da8e5377114b4139905efd959657f90d",
            "41d77a9b6c6b4f5bbb3daf61cf4dc218",
            "3b2d3c4c8dd5464da71c86c024dbd455",
            "05f3a96d1b5c4a7ab1b355ca6bafd1cb",
            "a7df953781fd4d92804fe0c84a12e3be",
            "7004225f23e141b78cf4275a59de0244",
            "0c90ed2544f2411e8f75b148aae5ba83",
            "31450339ee5a4899a62528401fe9aa75",
            "c4091b0dfbfd447da724d0b57cccd6ed",
            "0f9c1897d0ed4736aef12f98fbc94da6",
            "6162e5fcc11347a2847c1ffd6c788872",
            "1b550d94e4164868a55dbc18267babb1",
            "1e4d1405d1a6412fb7b087f28e7b757f",
            "648a935400b94029ba4b68090081260f",
            "5400ef3cbf4248e0ae5f9f691dbcb097",
            "5ae15ac8f1eb4b879fc728ebfd25fb63",
            "0122a288459945c5b00a4fe52be2a02e",
            "aa6894ab1a5640c281a773cbd38ad7f6",
            "872e2a953c804d86bfbf4229d877b7f5",
            "82c1a2f385a94ce9b2af052dd77d55d3",
            "1af539b7d8bf4da79203bc22c1ed8111",
            "b90323d92da6495cb25a3099e48dbbca",
            "9bfd8725320c4e3d9e91fe03a6f79477",
            "22c8d8d0322042e88ac5493e5d85264d",
            "dfa7ef9bfc6148aeb91262fe39fccbdc",
            "da6fa3da26df4514b422ed24ba6618d7",
            "512b76a43c6640e4bdaa32769d825287",
            "60eae18f92fe4fb1b5432a1260e133f5",
            "8b7cb7116acc409295db18e247be6d11",
            "d36af04f68264f188cb5e34c38801bb9",
            "97167b9ef72e47d588820d0439a99508",
            "516f1d0a036e4c6ba93f1a3a740c85e1",
            "d1ce5b6918a64853b3f6485abbb38989",
            "ef98bc05bcfb4d69846c0ab981a3293e",
            "8e6fd5b18777432fbde6c889aef800c8",
            "6e52d41dc5c0425db406feb3279bed9b",
            "032db26e4feb46e2832b25cc929342dd",
            "eea4f69f7fb648f4b1006aa08ce0044f",
            "66609bb3c0a044dfa4f11f47f73e9867",
            "7cb60db918774b4a96b1e1dbd1084f4b",
            "ddcb9ca0f3354457a6843a09b63c893b",
            "6ad5c55a40f34252b94524c546ba5d34",
            "6b862ee58d60453e9a8c6a2c139fed20",
            "54c614d427054e519a5ecc80d7450624",
            "21a5afd656564fe4a0df5a49dc2958c0",
            "ff7810331c6841c3900edbdf3bb1a22b",
            "94b4f5ec97674d9f83794ccebb20f109",
            "52ef4d35ff834755850968f444f39088",
            "e911301b12504ffe96902a148670dbbc",
            "c5705e0e71df4a97a72151af996c22ea",
            "353dab3027d3422faafeead08442b0d9",
            "9b21e13199854f2199b27b4950b92c6a",
            "f226206e1c744a0baa555114c7cac924",
            "7dac17244d8341bb85bb8fbd130ed2f2",
            "2a60af7977d54af0a8f6bb532f42cd04",
            "b382391709a947f787cdaf1814caeb04",
            "bbbb88054fe5450c8416368009fdd32d",
            "1135e199138f47849abfa8bfa54e1b9f",
            "7ec2420a725f4b6ea610494aa515a2e5",
            "bca37751c1974f27908c4348762c7181",
            "2004f4a57b9b4e3987c823ff4c6fa435",
            "1b9e20208103402093846cbb2bdcb1f9",
            "87868296ef54405996ed0b70046c0f6e",
            "8599d0d184d94e209d1470cf9a811cd3",
            "b4021a7b59af4761ae1d5765a25cd43d",
            "b74f3b8c712e465cb5e3cf403c6aca92",
            "f8e78387748e46f684680be704d018ad",
            "c687acbb0de64159baf11c8c37633800",
            "c6a67885b7054612bb7437d4c76ef471",
            "f9595825e131494f95795a5531129e1d",
            "3b232c878f944d5fa0629cd8ab907959",
            "f5742087d8264ba2961fffc4c1104185",
            "c58ecf99504541818a2eef76635f29c5",
            "c02d2c30b6cc4a43b3294714526a9da3",
            "289f6eb0a2f848f487c00b610e5a1d8d",
            "906227693f9b461b9d8c8d1d2724d634",
            "3144e86200824a409b11742805f4b696",
            "cc4e7410d6874b99a1ab7e7fbe58532a",
            "7b2071d34e844893b547a41f59e0bc27",
            "4e49723b0b2b408cb2caff90a7633323",
            "c7b2e8dc52c24708ae9e5bfb88782ea5",
            "e3204963db824dbb92cede5493d7f1dd",
            "1d66d858598846d094de07cc3bc6e054",
            "89d49219777f4a85be9e89b4d7c90461",
            "c48d03b07cbb43549272c696a33d0f30",
            "3218cd1369dc41d094fbbb5681cd2a05",
            "032ecddc26594273b14a537c53e7ad6f",
            "b2590fee320045ff99d2f7642fc314ba",
            "7b2c1f8156c046d9aabd472098305f61",
            "d2435584ce7842cc9c70645688c44669",
            "5dad4982aa6043d9aac115aa449f729d",
            "b763352805be4c748f45630cc1e77aa3",
            "2fca74f59b3a469cb708e54292d3a318",
            "c0bda4c65b66446d8cd9e7577a537109",
            "09548011f55248c9b597a771eb339866",
            "52a0dd6ecac945ed905f8168d329ce79",
            "0ae47f526706401eae9ec46dc1cacedf",
            "6543fba1280a41eca964d7eaf7935b0c",
            "566b426763fc416799acff87dc540250",
            "173208eb30824dcabe2ce7d0abeb0070",
            "af8d02ade3414ae68efd93f852c693a8",
            "19b6acd437ce4b5880e671eb91990eb6",
            "2b07e85380714ff794a696d0bb53a1be",
            "4f40276521a1427d984ae69bad6a8d0b"
          ]
        },
        "outputId": "55b20272-27b6-4cf6-993d-48eea19bc06c",
        "id": "cJRaF7H0cLaU"
      },
      "outputs": [
        {
          "output_type": "display_data",
          "data": {
            "text/plain": [
              "Epochs:   0%|          | 0/10 [00:00<?, ?it/s]"
            ],
            "application/vnd.jupyter.widget-view+json": {
              "version_major": 2,
              "version_minor": 0,
              "model_id": "c15c6644a0584072a7cc09b9da830bf2"
            }
          },
          "metadata": {}
        },
        {
          "output_type": "display_data",
          "data": {
            "text/plain": [
              "Train:   0%|          | 0/1250 [00:00<?, ?it/s]"
            ],
            "application/vnd.jupyter.widget-view+json": {
              "version_major": 2,
              "version_minor": 0,
              "model_id": "80e640edaccf4950bdeda11c142ffe7f"
            }
          },
          "metadata": {}
        },
        {
          "output_type": "display_data",
          "data": {
            "text/plain": [
              "Val:   0%|          | 0/313 [00:00<?, ?it/s]"
            ],
            "application/vnd.jupyter.widget-view+json": {
              "version_major": 2,
              "version_minor": 0,
              "model_id": "4e10687d0cbd4a4995b140762aaeb310"
            }
          },
          "metadata": {}
        },
        {
          "output_type": "display_data",
          "data": {
            "text/plain": [
              "Train:   0%|          | 0/1250 [00:00<?, ?it/s]"
            ],
            "application/vnd.jupyter.widget-view+json": {
              "version_major": 2,
              "version_minor": 0,
              "model_id": "e75282c2d4084e9b93ae8a1083fbea93"
            }
          },
          "metadata": {}
        },
        {
          "output_type": "display_data",
          "data": {
            "text/plain": [
              "Val:   0%|          | 0/313 [00:00<?, ?it/s]"
            ],
            "application/vnd.jupyter.widget-view+json": {
              "version_major": 2,
              "version_minor": 0,
              "model_id": "d785842ef33a475c88c3eba897c32e8b"
            }
          },
          "metadata": {}
        },
        {
          "output_type": "display_data",
          "data": {
            "text/plain": [
              "Train:   0%|          | 0/1250 [00:00<?, ?it/s]"
            ],
            "application/vnd.jupyter.widget-view+json": {
              "version_major": 2,
              "version_minor": 0,
              "model_id": "e9d8740c0ec84e75af4974b47a545bfc"
            }
          },
          "metadata": {}
        },
        {
          "output_type": "display_data",
          "data": {
            "text/plain": [
              "Val:   0%|          | 0/313 [00:00<?, ?it/s]"
            ],
            "application/vnd.jupyter.widget-view+json": {
              "version_major": 2,
              "version_minor": 0,
              "model_id": "6053a0868c054f4ba7dd2f323ced75d6"
            }
          },
          "metadata": {}
        },
        {
          "output_type": "display_data",
          "data": {
            "text/plain": [
              "Train:   0%|          | 0/1250 [00:00<?, ?it/s]"
            ],
            "application/vnd.jupyter.widget-view+json": {
              "version_major": 2,
              "version_minor": 0,
              "model_id": "f6c0d92391884ba3beb3ed14640975d5"
            }
          },
          "metadata": {}
        },
        {
          "output_type": "display_data",
          "data": {
            "text/plain": [
              "Val:   0%|          | 0/313 [00:00<?, ?it/s]"
            ],
            "application/vnd.jupyter.widget-view+json": {
              "version_major": 2,
              "version_minor": 0,
              "model_id": "ca7804b57f2b4f929d36220f6a66e4db"
            }
          },
          "metadata": {}
        },
        {
          "output_type": "display_data",
          "data": {
            "text/plain": [
              "Train:   0%|          | 0/1250 [00:00<?, ?it/s]"
            ],
            "application/vnd.jupyter.widget-view+json": {
              "version_major": 2,
              "version_minor": 0,
              "model_id": "ecba15dd46fb45a7a3107299c1b114f0"
            }
          },
          "metadata": {}
        },
        {
          "output_type": "display_data",
          "data": {
            "text/plain": [
              "Val:   0%|          | 0/313 [00:00<?, ?it/s]"
            ],
            "application/vnd.jupyter.widget-view+json": {
              "version_major": 2,
              "version_minor": 0,
              "model_id": "0995e2b5495149449079698e311176be"
            }
          },
          "metadata": {}
        },
        {
          "output_type": "display_data",
          "data": {
            "text/plain": [
              "Train:   0%|          | 0/1250 [00:00<?, ?it/s]"
            ],
            "application/vnd.jupyter.widget-view+json": {
              "version_major": 2,
              "version_minor": 0,
              "model_id": "33ab4f149b7649eba5eac37193187a25"
            }
          },
          "metadata": {}
        },
        {
          "output_type": "display_data",
          "data": {
            "text/plain": [
              "Val:   0%|          | 0/313 [00:00<?, ?it/s]"
            ],
            "application/vnd.jupyter.widget-view+json": {
              "version_major": 2,
              "version_minor": 0,
              "model_id": "7004225f23e141b78cf4275a59de0244"
            }
          },
          "metadata": {}
        },
        {
          "output_type": "display_data",
          "data": {
            "text/plain": [
              "Train:   0%|          | 0/1250 [00:00<?, ?it/s]"
            ],
            "application/vnd.jupyter.widget-view+json": {
              "version_major": 2,
              "version_minor": 0,
              "model_id": "0122a288459945c5b00a4fe52be2a02e"
            }
          },
          "metadata": {}
        },
        {
          "output_type": "display_data",
          "data": {
            "text/plain": [
              "Val:   0%|          | 0/313 [00:00<?, ?it/s]"
            ],
            "application/vnd.jupyter.widget-view+json": {
              "version_major": 2,
              "version_minor": 0,
              "model_id": "60eae18f92fe4fb1b5432a1260e133f5"
            }
          },
          "metadata": {}
        },
        {
          "output_type": "display_data",
          "data": {
            "text/plain": [
              "Train:   0%|          | 0/1250 [00:00<?, ?it/s]"
            ],
            "application/vnd.jupyter.widget-view+json": {
              "version_major": 2,
              "version_minor": 0,
              "model_id": "66609bb3c0a044dfa4f11f47f73e9867"
            }
          },
          "metadata": {}
        },
        {
          "output_type": "display_data",
          "data": {
            "text/plain": [
              "Val:   0%|          | 0/313 [00:00<?, ?it/s]"
            ],
            "application/vnd.jupyter.widget-view+json": {
              "version_major": 2,
              "version_minor": 0,
              "model_id": "c5705e0e71df4a97a72151af996c22ea"
            }
          },
          "metadata": {}
        },
        {
          "output_type": "display_data",
          "data": {
            "text/plain": [
              "Train:   0%|          | 0/1250 [00:00<?, ?it/s]"
            ],
            "application/vnd.jupyter.widget-view+json": {
              "version_major": 2,
              "version_minor": 0,
              "model_id": "2004f4a57b9b4e3987c823ff4c6fa435"
            }
          },
          "metadata": {}
        },
        {
          "output_type": "display_data",
          "data": {
            "text/plain": [
              "Val:   0%|          | 0/313 [00:00<?, ?it/s]"
            ],
            "application/vnd.jupyter.widget-view+json": {
              "version_major": 2,
              "version_minor": 0,
              "model_id": "f5742087d8264ba2961fffc4c1104185"
            }
          },
          "metadata": {}
        },
        {
          "output_type": "display_data",
          "data": {
            "text/plain": [
              "Train:   0%|          | 0/1250 [00:00<?, ?it/s]"
            ],
            "application/vnd.jupyter.widget-view+json": {
              "version_major": 2,
              "version_minor": 0,
              "model_id": "1d66d858598846d094de07cc3bc6e054"
            }
          },
          "metadata": {}
        },
        {
          "output_type": "display_data",
          "data": {
            "text/plain": [
              "Val:   0%|          | 0/313 [00:00<?, ?it/s]"
            ],
            "application/vnd.jupyter.widget-view+json": {
              "version_major": 2,
              "version_minor": 0,
              "model_id": "c0bda4c65b66446d8cd9e7577a537109"
            }
          },
          "metadata": {}
        }
      ],
      "source": [
        "from torch.nn.utils import clip_grad_norm_\n",
        "from torch.utils.tensorboard import SummaryWriter\n",
        "from tqdm.auto import tqdm, trange\n",
        "\n",
        "import torch.nn.functional as F\n",
        "import random\n",
        "\n",
        "\n",
        "\n",
        "writer = SummaryWriter()\n",
        "n_epochs = 10\n",
        "clip = 1\n",
        "global_step = 0  # for writer\n",
        "for epoch in trange(n_epochs, desc=\"Epochs\"):\n",
        "    model.train()\n",
        "    train_loss = 0\n",
        "    for src, trg in tqdm(train_dataloader, desc=\"Train\", leave=False):\n",
        "        src, trg = src.to(device), trg.to(device)\n",
        "        output = model(src, trg)\n",
        "\n",
        "        output = output[1:].view(-1, output.shape[-1])\n",
        "        trg = trg[1:].view(-1)\n",
        "\n",
        "        loss = criterion(output, trg)\n",
        "        optimizer.zero_grad()\n",
        "        loss.backward()\n",
        "        clip_grad_norm_(model.parameters(), clip)\n",
        "        optimizer.step()\n",
        "\n",
        "        train_loss += loss.item()\n",
        "        writer.add_scalar(\"Training/loss\", loss.item(), global_step)\n",
        "        global_step += 1\n",
        "\n",
        "    train_loss /= len(train_dataloader)\n",
        "    writer.add_scalar(\"Evaluation/train_loss\", train_loss, epoch)\n",
        "\n",
        "    model.eval()\n",
        "    val_loss = 0\n",
        "    with torch.no_grad():\n",
        "        for src, trg in tqdm(val_dataloader, desc=\"Val\", leave=False):\n",
        "            src, trg = src.to(device), trg.to(device)\n",
        "            output = model(src, trg)\n",
        "\n",
        "            output = output[1:].view(-1, output.shape[-1])\n",
        "            trg = trg[1:].view(-1)\n",
        "\n",
        "            loss = criterion(output, trg)\n",
        "\n",
        "            val_loss += loss.item()\n",
        "\n",
        "    val_loss /= len(val_dataloader)\n",
        "    writer.add_scalar(\"Evaluation/val_loss\", val_loss, epoch)"
      ]
    },
    {
      "cell_type": "code",
      "source": [
        "torch.save(model.state_dict(), \"lstm_attention_model.pt\")"
      ],
      "metadata": {
        "id": "6QT2bmOKzz77"
      },
      "execution_count": null,
      "outputs": []
    },
    {
      "cell_type": "markdown",
      "source": [],
      "metadata": {
        "id": "jsrj2G0uHXe6"
      }
    },
    {
      "cell_type": "code",
      "source": [
        "model.load_state_dict(torch.load(\"lstm_attention_model.pt\"))"
      ],
      "metadata": {
        "id": "KZR_YLVrz95h",
        "colab": {
          "base_uri": "https://localhost:8080/"
        },
        "outputId": "d985d8a1-981a-4f58-e5e2-a50ff5597a92"
      },
      "execution_count": null,
      "outputs": [
        {
          "output_type": "execute_result",
          "data": {
            "text/plain": [
              "<All keys matched successfully>"
            ]
          },
          "metadata": {},
          "execution_count": 28
        }
      ]
    },
    {
      "cell_type": "code",
      "source": [
        "src_itos = {src_vocab[token]: token for token in src_vocab.get_itos()}\n",
        "trg_itos = {trg_vocab[token]: token for token in trg_vocab.get_itos()}"
      ],
      "metadata": {
        "id": "-YUZfS8qVD5L"
      },
      "execution_count": null,
      "outputs": []
    },
    {
      "cell_type": "code",
      "source": [
        "def translate_sentence(\n",
        "    sentence,\n",
        "    model,\n",
        "    src_itos,\n",
        "    trg_itos,\n",
        "    src_vocab,\n",
        "    trg_vocab,\n",
        "    sos_token='<sos>',\n",
        "    eos_token='<eos>',\n",
        "    device='cuda:0',\n",
        "    max_output_length=25,\n",
        "):\n",
        "    model.eval()\n",
        "    with torch.no_grad():\n",
        "        src_ids = encode(sentence, src_vocab)[::-1]\n",
        "        src_tokens = [src_itos[token_id] for token_id in src_ids]\n",
        "        src_tensor = torch.LongTensor(src_ids).unsqueeze(-1).to(device)\n",
        "        encoder_outputs, hidden = model.encoder(src_tensor)\n",
        "        inputs = [trg_vocab[sos_token]]\n",
        "        attentions = torch.zeros(max_output_length, 1, len(src_ids))\n",
        "        for i in range(max_output_length):\n",
        "            inputs_tensor = torch.LongTensor([inputs[-1]]).to(device)\n",
        "            output, hidden, attention = model.decoder(\n",
        "                inputs_tensor, hidden, encoder_outputs\n",
        "            )\n",
        "            attentions[i] = attention\n",
        "            predicted_token = output.argmax(-1).item()\n",
        "            inputs.append(predicted_token)\n",
        "            if predicted_token == trg_vocab[eos_token]:\n",
        "                break\n",
        "    trg_tokens = [trg_itos[input] for input in inputs]\n",
        "    return trg_tokens, src_tokens, attentions[: len(trg_tokens) - 1]"
      ],
      "metadata": {
        "id": "z3-YB5ng_uRY"
      },
      "execution_count": null,
      "outputs": []
    },
    {
      "cell_type": "code",
      "source": [
        "import matplotlib.pyplot as plt\n",
        "%matplotlib inline\n",
        "\n",
        "def plot_attention(sentence, translation, attention):\n",
        "    fig, ax = plt.subplots(figsize=(10, 10))\n",
        "    attention = attention.squeeze(1).numpy()\n",
        "    cax = ax.matshow(attention, cmap=\"bone\")\n",
        "    ax.set_xticks(ticks=np.arange(len(sentence)), labels=sentence, rotation=90, size=15)\n",
        "    translation = translation[1:]\n",
        "    ax.set_yticks(ticks=np.arange(len(translation)), labels=translation, size=15)\n",
        "    plt.show()\n",
        "    plt.close()"
      ],
      "metadata": {
        "id": "DVmhYOrCNxy-"
      },
      "execution_count": null,
      "outputs": []
    },
    {
      "cell_type": "code",
      "source": [
        "sentence = val_data[0][0]\n",
        "expected_translation = val_data[0][1]\n",
        "\n",
        "sentence, expected_translation"
      ],
      "metadata": {
        "id": "ba7iJryaN8vQ",
        "colab": {
          "base_uri": "https://localhost:8080/"
        },
        "outputId": "92e92e82-2398-4eb6-978f-4e802faf6ef3"
      },
      "execution_count": null,
      "outputs": [
        {
          "output_type": "execute_result",
          "data": {
            "text/plain": [
              "('A shared equipped kitchen and a common living room are provided to guests.',\n",
              " 'В распоряжении гостей общая кухня и общая гостиная.')"
            ]
          },
          "metadata": {},
          "execution_count": 32
        }
      ]
    },
    {
      "cell_type": "code",
      "source": [
        "translation, sentence_tokens, attention = translate_sentence(\n",
        "    sentence,\n",
        "    model,\n",
        "    src_itos,\n",
        "    trg_itos,\n",
        "    src_vocab,\n",
        "    trg_vocab\n",
        ")"
      ],
      "metadata": {
        "id": "7IrRHGjiOAdd"
      },
      "execution_count": null,
      "outputs": []
    },
    {
      "cell_type": "code",
      "source": [
        "import numpy as np\n",
        "\n",
        "plot_attention(sentence_tokens, translation, attention)"
      ],
      "metadata": {
        "id": "ZfSyVdFnVgai",
        "colab": {
          "base_uri": "https://localhost:8080/",
          "height": 633
        },
        "outputId": "7c8a3339-6bdf-4c58-d723-9e8424e50627"
      },
      "execution_count": null,
      "outputs": [
        {
          "output_type": "display_data",
          "data": {
            "text/plain": [
              "<Figure size 1000x1000 with 1 Axes>"
            ],
            "image/png": "[encoded data removed]"
          },
          "metadata": {}
        }
      ]
    },
    {
      "cell_type": "code",
      "source": [
        "print(f\"src: '{sentence.rstrip().lower()}'\")\n",
        "print(f\"trg: '{expected_translation.rstrip().lower()}'\")\n",
        "print(f\"pred: '{' '.join(translation[1:-1])}'\")\n",
        "print()"
      ],
      "metadata": {
        "id": "LWv6650HV36e",
        "colab": {
          "base_uri": "https://localhost:8080/"
        },
        "outputId": "0ebdd351-74b9-41f1-c804-e1a9b2468936"
      },
      "execution_count": null,
      "outputs": [
        {
          "output_type": "stream",
          "name": "stdout",
          "text": [
            "src: 'a shared equipped kitchen and a common living room are provided to guests.'\n",
            "trg: 'в распоряжении гостей общая кухня и общая гостиная.'\n",
            "pred: 'в распоряжении гостей общая кухня и общая гостиная .'\n",
            "\n"
          ]
        }
      ]
    },
    {
      "cell_type": "code",
      "source": [
        "from nltk.translate.bleu_score import corpus_bleu, sentence_bleu\n",
        "import torch\n",
        "\n",
        "\n",
        "def translate_sentence(model, src_sentence, src_vocab, trg_vocab, sos_token, eos_token, device):\n",
        "    model.eval()\n",
        "    with torch.no_grad():\n",
        "        src_ids = encode(src_sentence, src_vocab)[::-1]\n",
        "        src_tensor = torch.LongTensor(src_ids).unsqueeze(1).to(device)\n",
        "        encoder_outputs, hidden = model.encoder(src_tensor)\n",
        "\n",
        "        trg_ids = [trg_vocab[sos_token]]\n",
        "        outputs = []\n",
        "        for i in range(100):\n",
        "            trg_tensor = torch.LongTensor([trg_ids[-1]]).to(device)\n",
        "            with torch.no_grad():\n",
        "                output, hidden, _ = model.decoder(trg_tensor, hidden, encoder_outputs)\n",
        "                pred_token = output.argmax(1).item()\n",
        "                trg_ids.append(pred_token)\n",
        "                if pred_token == trg_vocab[eos_token]:\n",
        "                    break\n",
        "        outputs = [trg_itos[idx] for idx in trg_ids[1:-1]]\n",
        "    return outputs\n",
        "\n",
        "references = []\n",
        "candidates = []\n",
        "\n",
        "for src, trg in val_data:\n",
        "    trg_tokens = trg.lower().split()\n",
        "    translation_output = translate_sentence(model, src, src_vocab, trg_vocab, '<sos>', '<eos>', device)\n",
        "    references.append([trg_tokens])\n",
        "    candidates.append(translation_output)\n",
        "\n",
        "bleu_score = corpus_bleu(references, candidates)\n",
        "print(f\"BLEU score on validation set: {bleu_score}\")\n"
      ],
      "metadata": {
        "id": "jeSx5LA3fyGg",
        "colab": {
          "base_uri": "https://localhost:8080/"
        },
        "outputId": "0529c466-2552-48f3-830b-f66e1202a505"
      },
      "execution_count": null,
      "outputs": [
        {
          "output_type": "stream",
          "name": "stdout",
          "text": [
            "BLEU score on validation set: 0.1404505694580977\n"
          ]
        }
      ]
    },
    {
      "cell_type": "markdown",
      "source": [
        "# bpe without attention"
      ],
      "metadata": {
        "id": "t535yJKvdoAM"
      }
    },
    {
      "cell_type": "code",
      "source": [],
      "metadata": {
        "id": "ryvbCQ4Lnnlj"
      },
      "execution_count": null,
      "outputs": []
    },
    {
      "cell_type": "code",
      "source": [
        "from nltk.tokenize import WordPunctTokenizer\n",
        "from subword_nmt.learn_bpe import learn_bpe\n",
        "from subword_nmt.apply_bpe import BPE\n",
        "tokenizer = WordPunctTokenizer()\n",
        "def tokenize(x):\n",
        "    return ' '.join(tokenizer.tokenize(x.lower()))\n",
        "\n",
        "with open('train.en', 'w') as f_src,  open('train.ru', 'w') as f_dst:\n",
        "    for line in open('data.txt'):\n",
        "        src_line, dst_line = line.strip().split('\\t')\n",
        "        f_src.write(tokenize(src_line) + '\\n')\n",
        "        f_dst.write(tokenize(dst_line) + '\\n')\n",
        "\n",
        "bpe = {}\n",
        "for lang in ['en', 'ru']:\n",
        "    learn_bpe(open('./train.' + lang), open('bpe_rules.' + lang, 'w'), num_symbols=8000)\n",
        "    bpe[lang] = BPE(open('./bpe_rules.' + lang))\n",
        "\n",
        "    with open('train.bpe.' + lang, 'w') as f_out:\n",
        "        for line in open('train.' + lang):\n",
        "            f_out.write(bpe[lang].process_line(line.strip()) + '\\n')"
      ],
      "metadata": {
        "colab": {
          "base_uri": "https://localhost:8080/"
        },
        "id": "g9kP0SdxlrsY",
        "outputId": "de6dfabd-ca37-4b15-e848-69388babf974",
        "execution": {
          "iopub.status.busy": "2024-04-23T13:56:54.785119Z",
          "iopub.execute_input": "2024-04-23T13:56:54.785445Z",
          "iopub.status.idle": "2024-04-23T13:57:30.266975Z",
          "shell.execute_reply.started": "2024-04-23T13:56:54.785416Z",
          "shell.execute_reply": "2024-04-23T13:57:30.265847Z"
        },
        "trusted": true
      },
      "execution_count": null,
      "outputs": [
        {
          "output_type": "stream",
          "name": "stderr",
          "text": [
            "100%|██████████| 8000/8000 [00:18<00:00, 439.14it/s]\n",
            "100%|██████████| 8000/8000 [00:21<00:00, 378.37it/s]\n"
          ]
        }
      ]
    },
    {
      "cell_type": "code",
      "source": [
        "import numpy as np\n",
        "import matplotlib.pyplot as plt\n",
        "%matplotlib inline"
      ],
      "metadata": {
        "id": "CmTy_m_olrsb",
        "execution": {
          "iopub.status.busy": "2024-04-23T13:57:30.268456Z",
          "iopub.execute_input": "2024-04-23T13:57:30.268892Z",
          "iopub.status.idle": "2024-04-23T13:57:30.274809Z",
          "shell.execute_reply.started": "2024-04-23T13:57:30.268856Z",
          "shell.execute_reply": "2024-04-23T13:57:30.273803Z"
        },
        "trusted": true
      },
      "execution_count": null,
      "outputs": []
    },
    {
      "cell_type": "code",
      "source": [
        "data_inp = np.array(open('./train.bpe.ru').read().split('\\n'))\n",
        "data_out = np.array(open('./train.bpe.en').read().split('\\n'))\n",
        "\n",
        "from sklearn.model_selection import train_test_split\n",
        "train_inp, dev_inp, train_out, dev_out = train_test_split(data_inp, data_out, test_size=3000,\n",
        "                                                          random_state=42)\n",
        "for i in range(3):\n",
        "    print('inp:', train_inp[i])\n",
        "    print('out:', train_out[i], end='\\n\\n')"
      ],
      "metadata": {
        "colab": {
          "base_uri": "https://localhost:8080/"
        },
        "id": "8PskgBSxlrsd",
        "outputId": "1a42fd06-1df2-4a76-ca17-879ea91a2076",
        "execution": {
          "iopub.status.busy": "2024-04-23T13:57:30.276180Z",
          "iopub.execute_input": "2024-04-23T13:57:30.277064Z",
          "iopub.status.idle": "2024-04-23T13:57:30.740868Z",
          "shell.execute_reply.started": "2024-04-23T13:57:30.277028Z",
          "shell.execute_reply": "2024-04-23T13:57:30.739789Z"
        },
        "trusted": true
      },
      "execution_count": null,
      "outputs": [
        {
          "output_type": "stream",
          "name": "stdout",
          "text": [
            "inp: на территории обустроена бесплатная частная парковка .\n",
            "out: free private parking is available on site .\n",
            "\n",
            "inp: кроме того , в 5 минутах ходьбы работают многочисленные бары и рестораны .\n",
            "out: guests can find many bars and restaurants within a 5 - minute walk .\n",
            "\n",
            "inp: отель san mi@@ gu@@ el расположен в центре мор@@ ели@@ и , в 750 метрах от главной площади города и кафедрального собора .\n",
            "out: hotel san miguel is located in central more@@ lia , 750 metres from the city ’ s main square and cathedral .\n",
            "\n"
          ]
        }
      ]
    },
    {
      "cell_type": "code",
      "source": [
        "from vocab import Vocab\n",
        "inp_voc = Vocab.from_lines(train_inp)\n",
        "out_voc = Vocab.from_lines(train_out)\n",
        "\n",
        "batch_lines = sorted(train_inp, key=len)[5:10]\n",
        "batch_ids = inp_voc.to_matrix(batch_lines)\n",
        "batch_lines_restored = inp_voc.to_lines(batch_ids)"
      ],
      "metadata": {
        "id": "vipg4O61lrsg",
        "execution": {
          "iopub.status.busy": "2024-04-23T13:57:30.743373Z",
          "iopub.execute_input": "2024-04-23T13:57:30.743668Z",
          "iopub.status.idle": "2024-04-23T13:57:31.250932Z",
          "shell.execute_reply.started": "2024-04-23T13:57:30.743643Z",
          "shell.execute_reply": "2024-04-23T13:57:31.249970Z"
        },
        "trusted": true
      },
      "execution_count": null,
      "outputs": []
    },
    {
      "cell_type": "markdown",
      "source": [
        "Draw source and translation length distributions to estimate the scope of the task."
      ],
      "metadata": {
        "id": "gSYu-MkElrsk"
      }
    },
    {
      "cell_type": "code",
      "source": [
        "plt.figure(figsize=[8, 4])\n",
        "plt.subplot(1, 2, 1)\n",
        "plt.title(\"source length\")\n",
        "plt.hist(list(map(len, map(str.split, train_inp))), bins=20);\n",
        "\n",
        "plt.subplot(1, 2, 2)\n",
        "plt.title(\"translation length\")\n",
        "plt.hist(list(map(len, map(str.split, train_out))), bins=20);"
      ],
      "metadata": {
        "colab": {
          "base_uri": "https://localhost:8080/",
          "height": 391
        },
        "id": "TLLl9cSNlrsl",
        "outputId": "8daaaff9-340c-4f2f-84fc-ba4d40ffc7ca",
        "execution": {
          "iopub.status.busy": "2024-04-23T13:57:31.354856Z",
          "iopub.execute_input": "2024-04-23T13:57:31.355279Z",
          "iopub.status.idle": "2024-04-23T13:57:32.515852Z",
          "shell.execute_reply.started": "2024-04-23T13:57:31.355244Z",
          "shell.execute_reply": "2024-04-23T13:57:32.514942Z"
        },
        "trusted": true
      },
      "execution_count": null,
      "outputs": [
        {
          "output_type": "display_data",
          "data": {
            "text/plain": [
              "<Figure size 800x400 with 2 Axes>"
            ],
            "image/png": "[encoded data removed]"
          },
          "metadata": {}
        }
      ]
    },
    {
      "cell_type": "code",
      "source": [
        "import torch\n",
        "import torch.nn as nn\n",
        "import torch.nn.functional as F\n",
        "device = 'cuda' if torch.cuda.is_available() else 'cpu'"
      ],
      "metadata": {
        "id": "pd_rDRm9lrso",
        "execution": {
          "iopub.status.busy": "2024-04-23T13:57:32.516954Z",
          "iopub.execute_input": "2024-04-23T13:57:32.517209Z",
          "iopub.status.idle": "2024-04-23T13:57:32.522038Z",
          "shell.execute_reply.started": "2024-04-23T13:57:32.517187Z",
          "shell.execute_reply": "2024-04-23T13:57:32.521130Z"
        },
        "trusted": true
      },
      "execution_count": null,
      "outputs": []
    },
    {
      "cell_type": "code",
      "source": [
        "class BasicModel(nn.Module):\n",
        "    def __init__(self, inp_voc, out_voc, emb_size=64, hid_size=128):\n",
        "        \"\"\"\n",
        "        A simple encoder-decoder seq2seq model\n",
        "        \"\"\"\n",
        "        super().__init__()\n",
        "\n",
        "        self.inp_voc, self.out_voc = inp_voc, out_voc\n",
        "        self.hid_size = hid_size\n",
        "\n",
        "        self.emb_inp = nn.Embedding(len(inp_voc), emb_size)\n",
        "        self.emb_out = nn.Embedding(len(out_voc), emb_size)\n",
        "        self.enc0 = nn.GRU(emb_size, hid_size, batch_first=True)\n",
        "\n",
        "        self.dec_start = nn.Linear(hid_size, hid_size)\n",
        "        self.dec0 = nn.GRUCell(emb_size, hid_size)\n",
        "        self.logits = nn.Linear(hid_size, len(out_voc))\n",
        "\n",
        "    def forward(self, inp, out):\n",
        "        initial_state = self.encode(inp)\n",
        "        return self.decode(initial_state, out)\n",
        "\n",
        "\n",
        "    def encode(self, inp, **flags):\n",
        "\n",
        "        inp_emb = self.emb_inp(inp)\n",
        "        batch_size = inp.shape[0]\n",
        "\n",
        "        enc_seq, [last_state_but_not_really] = self.enc0(inp_emb)\n",
        "        lengths = (inp != self.inp_voc.eos_ix).to(torch.int64).sum(dim=1).clamp_max(inp.shape[1] - 1)\n",
        "        last_state = enc_seq[torch.arange(len(enc_seq)), lengths]\n",
        "\n",
        "\n",
        "        dec_start = self.dec_start(last_state)\n",
        "        return [dec_start]\n",
        "\n",
        "    def decode_step(self, prev_state, prev_tokens, **flags):\n",
        "\n",
        "        [dec_start,] = prev_state # dec_start = prev_state[0]\n",
        "\n",
        "        prev_tokens_embs = self.emb_out(prev_tokens)\n",
        "\n",
        "        new_gru_activations = self.dec0(prev_tokens_embs, dec_start)\n",
        "        new_dec_state = [new_gru_activations]\n",
        "\n",
        "        output_logits = self.logits(new_gru_activations)\n",
        "\n",
        "        return new_dec_state, output_logits\n",
        "\n",
        "    def decode(self, initial_state, out_tokens, **flags):\n",
        "        batch_size = out_tokens.shape[0]\n",
        "        state = initial_state\n",
        "\n",
        "        onehot_bos = F.one_hot(torch.full([batch_size], self.out_voc.bos_ix, dtype=torch.int64),\n",
        "                               num_classes=len(self.out_voc)).to(device=out_tokens.device)\n",
        "        first_logits = torch.log(onehot_bos.to(torch.float32) + 1e-9)\n",
        "\n",
        "        logits_sequence = [first_logits]\n",
        "        for i in range(out_tokens.shape[1] - 1):\n",
        "            state, logits = self.decode_step(state, out_tokens[:, i])\n",
        "            logits_sequence.append(logits)\n",
        "        return torch.stack(logits_sequence, dim=1)\n",
        "\n",
        "    def decode_inference(self, initial_state, max_len=100, **flags):\n",
        "        batch_size, device = len(initial_state[0]), initial_state[0].device\n",
        "        state = initial_state\n",
        "        outputs = [torch.full([batch_size], self.out_voc.bos_ix, dtype=torch.int64,\n",
        "                              device=device)]\n",
        "        all_states = [initial_state]\n",
        "\n",
        "        for i in range(max_len):\n",
        "            state, logits = self.decode_step(state, outputs[-1])\n",
        "            outputs.append(logits.argmax(dim=-1))\n",
        "            all_states.append(state)\n",
        "\n",
        "        return torch.stack(outputs, dim=1), all_states\n",
        "\n",
        "    def translate_lines(self, inp_lines, **kwargs):\n",
        "        inp = self.inp_voc.to_matrix(inp_lines).to(device)\n",
        "        initial_state = self.encode(inp)\n",
        "        out_ids, states = self.decode_inference(initial_state, **kwargs)\n",
        "        return self.out_voc.to_lines(out_ids.cpu().numpy()), states\n"
      ],
      "metadata": {
        "id": "wgfN5-F7lrst",
        "execution": {
          "iopub.status.busy": "2024-04-23T13:57:32.523505Z",
          "iopub.execute_input": "2024-04-23T13:57:32.523925Z",
          "iopub.status.idle": "2024-04-23T13:57:32.544234Z",
          "shell.execute_reply.started": "2024-04-23T13:57:32.523892Z",
          "shell.execute_reply": "2024-04-23T13:57:32.543442Z"
        },
        "trusted": true
      },
      "execution_count": null,
      "outputs": []
    },
    {
      "cell_type": "code",
      "source": [
        "\n",
        "model = BasicModel(inp_voc, out_voc).to(device)\n",
        "\n",
        "dummy_inp_tokens = inp_voc.to_matrix(sorted(train_inp, key=len)[5:10]).to(device)\n",
        "dummy_out_tokens = out_voc.to_matrix(sorted(train_out, key=len)[5:10]).to(device)\n",
        "\n",
        "h0 = model.encode(dummy_inp_tokens)\n",
        "h1, logits1 = model.decode_step(h0, torch.arange(len(dummy_inp_tokens), device=device))\n",
        "\n",
        "assert isinstance(h1, list) and len(h1) == len(h0)\n",
        "assert h1[0].shape == h0[0].shape and not torch.allclose(h1[0], h0[0])\n",
        "assert logits1.shape == (len(dummy_inp_tokens), len(out_voc))\n",
        "\n",
        "logits_seq = model.decode(h0, dummy_out_tokens)\n",
        "assert logits_seq.shape == (dummy_out_tokens.shape[0], dummy_out_tokens.shape[1], len(out_voc))\n",
        "\n",
        "logits_seq2 = model(dummy_inp_tokens, dummy_out_tokens)\n",
        "assert logits_seq2.shape == logits_seq.shape"
      ],
      "metadata": {
        "id": "3cKXlTVSWxFA",
        "execution": {
          "iopub.status.busy": "2024-04-23T13:57:32.545329Z",
          "iopub.execute_input": "2024-04-23T13:57:32.545616Z",
          "iopub.status.idle": "2024-04-23T13:57:32.776474Z",
          "shell.execute_reply.started": "2024-04-23T13:57:32.545591Z",
          "shell.execute_reply": "2024-04-23T13:57:32.775486Z"
        },
        "trusted": true
      },
      "execution_count": null,
      "outputs": []
    },
    {
      "cell_type": "code",
      "source": [
        "dummy_translations, dummy_states = model.translate_lines(train_inp[:3], max_len=25)\n",
        "print(\"Translations without training:\")\n",
        "print('\\n'.join([line for line in dummy_translations]))"
      ],
      "metadata": {
        "id": "X3Z2304jWxFB",
        "outputId": "1a0dbaed-eff6-4ec9-b72a-a860c83f5b63",
        "colab": {
          "base_uri": "https://localhost:8080/"
        },
        "execution": {
          "iopub.status.busy": "2024-04-23T13:57:32.777766Z",
          "iopub.execute_input": "2024-04-23T13:57:32.778061Z",
          "iopub.status.idle": "2024-04-23T13:57:32.792353Z",
          "shell.execute_reply.started": "2024-04-23T13:57:32.778036Z",
          "shell.execute_reply": "2024-04-23T13:57:32.791468Z"
        },
        "trusted": true
      },
      "execution_count": null,
      "outputs": [
        {
          "output_type": "stream",
          "name": "stdout",
          "text": [
            "Translations without training:\n",
            "art art art art art art art art art art art art art art art art art art art art art art art art art\n",
            "art art art art art art art art art art art art art art art art art art art art art art art art art\n",
            "art art art art art art art art art art art art art art art art art art art art art art art art art\n"
          ]
        }
      ]
    },
    {
      "cell_type": "code",
      "source": [
        "\n",
        "def compute_loss(model, inp, out, **flags):\n",
        "\n",
        "    mask = model.out_voc.compute_mask(out)\n",
        "    targets_1hot = F.one_hot(out, len(model.out_voc)).to(torch.float32)\n",
        "    logits_seq = model(inp, out)\n",
        "    logprobs_seq = torch.log_softmax(logits_seq, dim=-1)\n",
        "    logp_out = (logprobs_seq * targets_1hot).sum(dim=-1)\n",
        "    loss_values = -logp_out * mask\n",
        "    return loss_values.sum() / mask.sum()"
      ],
      "metadata": {
        "id": "c8XPV8sWlrs5",
        "scrolled": true,
        "execution": {
          "iopub.status.busy": "2024-04-23T13:57:32.793491Z",
          "iopub.execute_input": "2024-04-23T13:57:32.793790Z",
          "iopub.status.idle": "2024-04-23T13:57:32.800803Z",
          "shell.execute_reply.started": "2024-04-23T13:57:32.793742Z",
          "shell.execute_reply": "2024-04-23T13:57:32.799780Z"
        },
        "trusted": true
      },
      "execution_count": null,
      "outputs": []
    },
    {
      "cell_type": "code",
      "source": [
        "dummy_loss = compute_loss(model, dummy_inp_tokens, dummy_out_tokens)\n",
        "print(\"Loss:\", dummy_loss)\n",
        "assert np.allclose(dummy_loss.item(), 7.5, rtol=0.1, atol=0.1), \"We're sorry for your loss\"\n",
        "\n",
        "dummy_loss.backward()"
      ],
      "metadata": {
        "colab": {
          "base_uri": "https://localhost:8080/"
        },
        "id": "ME_LWUeklrs7",
        "outputId": "39eacdf3-4929-42f8-aa92-e919e66ae3f0",
        "execution": {
          "iopub.status.busy": "2024-04-23T13:57:32.802112Z",
          "iopub.execute_input": "2024-04-23T13:57:32.802532Z",
          "iopub.status.idle": "2024-04-23T13:57:32.824688Z",
          "shell.execute_reply.started": "2024-04-23T13:57:32.802500Z",
          "shell.execute_reply": "2024-04-23T13:57:32.823832Z"
        },
        "trusted": true
      },
      "execution_count": null,
      "outputs": [
        {
          "output_type": "stream",
          "name": "stdout",
          "text": [
            "Loss: tensor(7.5452, device='cuda:0', grad_fn=<DivBackward0>)\n"
          ]
        }
      ]
    },
    {
      "cell_type": "code",
      "source": [
        "from nltk.translate.bleu_score import corpus_bleu\n",
        "def compute_bleu(model, inp_lines, out_lines, bpe_sep='@@ ', **flags):\n",
        "\n",
        "    with torch.no_grad():\n",
        "        translations, _ = model.translate_lines(inp_lines, **flags)\n",
        "        translations = [line.replace(bpe_sep, '') for line in translations]\n",
        "        actual = [line.replace(bpe_sep, '') for line in out_lines]\n",
        "        return corpus_bleu(\n",
        "            [[ref.split()] for ref in actual],\n",
        "            [trans.split() for trans in translations],\n",
        "            smoothing_function=lambda precisions, **kw: [p + 1.0 / p.denominator for p in precisions]\n",
        "            )"
      ],
      "metadata": {
        "id": "Gb1-PhKIlrs-",
        "execution": {
          "iopub.status.busy": "2024-04-23T13:57:32.828950Z",
          "iopub.execute_input": "2024-04-23T13:57:32.829220Z",
          "iopub.status.idle": "2024-04-23T13:57:32.836370Z",
          "shell.execute_reply.started": "2024-04-23T13:57:32.829198Z",
          "shell.execute_reply": "2024-04-23T13:57:32.835304Z"
        },
        "trusted": true
      },
      "execution_count": null,
      "outputs": []
    },
    {
      "cell_type": "code",
      "source": [
        "compute_bleu(model, dev_inp, dev_out)"
      ],
      "metadata": {
        "colab": {
          "base_uri": "https://localhost:8080/"
        },
        "id": "gZvfid1RlrtA",
        "outputId": "bd2309ff-045d-4dab-fbc2-c123e30f5f91",
        "execution": {
          "iopub.status.busy": "2024-04-23T13:57:32.837531Z",
          "iopub.execute_input": "2024-04-23T13:57:32.837939Z",
          "iopub.status.idle": "2024-04-23T13:57:34.289056Z",
          "shell.execute_reply.started": "2024-04-23T13:57:32.837905Z",
          "shell.execute_reply": "2024-04-23T13:57:34.288086Z"
        },
        "trusted": true
      },
      "execution_count": null,
      "outputs": [
        {
          "output_type": "execute_result",
          "data": {
            "text/plain": [
              "6.426230990972895e-06"
            ]
          },
          "metadata": {},
          "execution_count": 14
        }
      ]
    },
    {
      "cell_type": "markdown",
      "source": [
        "### Training loop\n",
        "\n",
        "Training encoder-decoder models isn't that different from any other models: sample batches, compute loss, backprop and update"
      ],
      "metadata": {
        "id": "nQDhGwg4lrtC"
      }
    },
    {
      "cell_type": "code",
      "source": [
        "from IPython.display import clear_output\n",
        "from tqdm import tqdm, trange\n",
        "metrics = {'train_loss': [], 'dev_bleu': [] }\n",
        "\n",
        "model = BasicModel(inp_voc, out_voc).to(device)\n",
        "opt = torch.optim.Adam(model.parameters(), lr=1e-3)\n",
        "batch_size = 32"
      ],
      "metadata": {
        "id": "yfwIaixHlrtI",
        "execution": {
          "iopub.status.busy": "2024-04-23T13:57:34.290548Z",
          "iopub.execute_input": "2024-04-23T13:57:34.290951Z",
          "iopub.status.idle": "2024-04-23T13:57:34.319214Z",
          "shell.execute_reply.started": "2024-04-23T13:57:34.290919Z",
          "shell.execute_reply": "2024-04-23T13:57:34.318454Z"
        },
        "trusted": true
      },
      "execution_count": null,
      "outputs": []
    },
    {
      "cell_type": "code",
      "source": [
        "for _ in trange(25000):\n",
        "    step = len(metrics['train_loss']) + 1\n",
        "    batch_ix = np.random.randint(len(train_inp), size=batch_size)\n",
        "    batch_inp = inp_voc.to_matrix(train_inp[batch_ix]).to(device)\n",
        "    batch_out = out_voc.to_matrix(train_out[batch_ix]).to(device)\n",
        "\n",
        "    loss_t = compute_loss(model, batch_inp, batch_out)\n",
        "    opt.zero_grad()\n",
        "    loss_t.backward()\n",
        "    opt.step()\n",
        "\n",
        "    metrics['train_loss'].append((step, loss_t.item()))\n",
        "\n",
        "    if step % 100 == 0:\n",
        "        metrics['dev_bleu'].append((step, compute_bleu(model, dev_inp, dev_out)))\n",
        "\n",
        "        clear_output(True)\n",
        "        plt.figure(figsize=(12,4))\n",
        "        for i, (name, history) in enumerate(sorted(metrics.items())):\n",
        "            plt.subplot(1, len(metrics), i + 1)\n",
        "            plt.title(name)\n",
        "            plt.plot(*zip(*history))\n",
        "            plt.grid()\n",
        "        plt.show()\n",
        "        print(\"Mean loss=%.3f\" % np.mean(metrics['train_loss'][-10:], axis=0)[1], flush=True)\n"
      ],
      "metadata": {
        "colab": {
          "base_uri": "https://localhost:8080/",
          "height": 428
        },
        "id": "LlDT6eDUlrtL",
        "scrolled": true,
        "outputId": "d43bfc78-6160-434e-8a68-9e79e7dfb5d3",
        "execution": {
          "iopub.status.busy": "2024-04-23T13:57:34.320425Z",
          "iopub.execute_input": "2024-04-23T13:57:34.320687Z",
          "iopub.status.idle": "2024-04-23T13:57:34.325795Z",
          "shell.execute_reply.started": "2024-04-23T13:57:34.320664Z",
          "shell.execute_reply": "2024-04-23T13:57:34.324904Z"
        },
        "trusted": true
      },
      "execution_count": null,
      "outputs": [
        {
          "output_type": "display_data",
          "data": {
            "text/plain": [
              "<Figure size 1200x400 with 2 Axes>"
            ],
            "image/png": "[encoded data removed]"
          },
          "metadata": {}
        },
        {
          "output_type": "stream",
          "name": "stdout",
          "text": [
            "Mean loss=1.861\n"
          ]
        },
        {
          "output_type": "stream",
          "name": "stderr",
          "text": [
            "\r100%|██████████| 25000/25000 [19:28<00:00, 21.40it/s]\n"
          ]
        }
      ]
    },
    {
      "cell_type": "code",
      "source": [
        "np.mean(metrics['dev_bleu'][-10:], axis=0)[1]"
      ],
      "metadata": {
        "id": "2ahuhKVhlrtP",
        "execution": {
          "iopub.status.busy": "2024-04-23T13:57:34.326930Z",
          "iopub.execute_input": "2024-04-23T13:57:34.327362Z",
          "iopub.status.idle": "2024-04-23T13:57:34.338365Z",
          "shell.execute_reply.started": "2024-04-23T13:57:34.327328Z",
          "shell.execute_reply": "2024-04-23T13:57:34.337550Z"
        },
        "trusted": true,
        "colab": {
          "base_uri": "https://localhost:8080/"
        },
        "outputId": "fa2f96b8-b88a-402a-ab09-be5088136276"
      },
      "execution_count": null,
      "outputs": [
        {
          "output_type": "execute_result",
          "data": {
            "text/plain": [
              "0.17911344913589308"
            ]
          },
          "metadata": {},
          "execution_count": 19
        }
      ]
    },
    {
      "cell_type": "code",
      "source": [
        "for inp_line, trans_line in zip(dev_inp[::500], model.translate_lines(dev_inp[::500])[0]):\n",
        "    print(inp_line)\n",
        "    print(trans_line)\n",
        "    print()"
      ],
      "metadata": {
        "colab": {
          "base_uri": "https://localhost:8080/"
        },
        "id": "KyaHOpealrtS",
        "outputId": "1e8e0e64-206b-453c-df97-098f5e38a18b",
        "execution": {
          "iopub.status.busy": "2024-04-23T13:57:34.339433Z",
          "iopub.execute_input": "2024-04-23T13:57:34.339771Z",
          "iopub.status.idle": "2024-04-23T13:57:34.347740Z",
          "shell.execute_reply.started": "2024-04-23T13:57:34.339723Z",
          "shell.execute_reply": "2024-04-23T13:57:34.346906Z"
        },
        "trusted": true
      },
      "execution_count": null,
      "outputs": [
        {
          "output_type": "stream",
          "name": "stdout",
          "text": [
            "в распоряжении гостей общая кухня и общая гостиная .\n",
            "there is a shared kitchen with a shared lounge and a shared kitchen .\n",
            "\n",
            "кроме того , предоставляется прокат велосипедов , услуги трансфера и бесплатная парковка .\n",
            "the property offers free parking and free parking .\n",
            "\n",
            "расстояние до города ки@@ сси@@ м@@ ми составляет 26 км .\n",
            "k@@ ře@@ he@@ vsk airport is 30 km away .\n",
            "\n",
            "апартаменты в пент@@ хаусе с общим открытым бассейном , садом , кондиционером и террасой для загара расположены в 5 минутах ходьбы от пляжа на курорте ка@@ бо - рой .\n",
            "located in the centre of mor@@ a beach , this air - conditioned villa features a terrace and a restaurant with a terrace and a restaurant . it features a swimming pool and a terrace .\n",
            "\n",
            "апартаменты mo@@ s@@ co@@ w point - loft red square находятся в москве , в 200 метрах от большого театра .\n",
            "the cathedral of saint nic@@ os is located in the centre of barcelona , 200 metres from the apartment .\n",
            "\n",
            "в вашем распоряжении собственная ванная комната с душем и полотенцами .\n",
            "featuring a shower , private bathrooms also come with towels .\n",
            "\n"
          ]
        }
      ]
    },
    {
      "cell_type": "markdown",
      "source": [
        "# bpe with attention"
      ],
      "metadata": {
        "id": "n6QTS0G-noz5"
      }
    },
    {
      "cell_type": "code",
      "source": [
        "class AttentionLayer(nn.Module):\n",
        "    def __init__(self, name, enc_size, dec_size, hid_size, activ=torch.tanh):\n",
        "        super().__init__()\n",
        "        self.name = name\n",
        "        self.enc_size = enc_size\n",
        "        self.dec_size = dec_size\n",
        "        self.hid_size = hid_size\n",
        "        self.activ = activ\n",
        "\n",
        "        self.enc_linear = nn.Linear(enc_size, hid_size, bias=False)\n",
        "        self.dec_linear = nn.Linear(dec_size, hid_size, bias=False)\n",
        "        self.out_linear = nn.Linear(hid_size, 1, bias=False)\n",
        "\n",
        "\n",
        "    def forward(self, enc, dec, inp_mask):\n",
        "\n",
        "        enc_transformed = self.enc_linear(enc)\n",
        "        dec_transformed = self.dec_linear(dec).unsqueeze(1)\n",
        "        logits = self.out_linear(self.activ(enc_transformed + dec_transformed)).squeeze(2)\n",
        "\n",
        "        replacing = (torch.ones(inp_mask.shape)*(-1e9)).to(device)\n",
        "        a_t = torch.where((inp_mask==0).to(device), replacing, logits)\n",
        "\n",
        "        probs = F.softmax(a_t, dim=-1)\n",
        "\n",
        "        attn = torch.bmm(probs.unsqueeze(1), enc).squeeze(1)\n",
        "        return attn, probs"
      ],
      "metadata": {
        "id": "Sxb3uXAQWxFI",
        "execution": {
          "iopub.status.busy": "2024-04-23T13:57:34.349098Z",
          "iopub.execute_input": "2024-04-23T13:57:34.349438Z",
          "iopub.status.idle": "2024-04-23T13:57:34.360100Z",
          "shell.execute_reply.started": "2024-04-23T13:57:34.349408Z",
          "shell.execute_reply": "2024-04-23T13:57:34.359179Z"
        },
        "trusted": true
      },
      "execution_count": null,
      "outputs": []
    },
    {
      "cell_type": "code",
      "source": [
        "class AttentiveModel(BasicModel):\n",
        "    def __init__(self, name, inp_voc, out_voc,\n",
        "                 emb_size=64, hid_size=128, attn_size=128):\n",
        "        nn.Module.__init__(self)\n",
        "        self.inp_voc, self.out_voc = inp_voc, out_voc\n",
        "        self.hid_size = hid_size\n",
        "\n",
        "        # <YOUR CODE: initialize layers>\n",
        "        self.emb_inp = nn.Embedding(len(inp_voc), emb_size)\n",
        "        self.emb_out = nn.Embedding(len(out_voc), emb_size)\n",
        "        self.enc0 = nn.GRU(emb_size, hid_size, batch_first=True)\n",
        "\n",
        "        self.attn = AttentionLayer(name, enc_size=hid_size, dec_size=hid_size, hid_size=attn_size)\n",
        "\n",
        "        self.dec_start = nn.Linear(hid_size, hid_size)\n",
        "        self.dec0 = nn.GRUCell(emb_size, hid_size)\n",
        "        self.logits = nn.Linear(hid_size, len(out_voc))\n",
        "\n",
        "    def encode(self, inp, **flags):\n",
        "\n",
        "        emb_inp = self.emb_inp(inp)\n",
        "        batch_size = inp.shape[0]\n",
        "\n",
        "        enc_seq, [last_state_but_not_really] = self.enc0(emb_inp)\n",
        "        lengths = (inp != self.inp_voc.eos_ix).to(torch.int64).sum(dim=1).clamp_max(inp.shape[1] - 1)\n",
        "        last_state = enc_seq[torch.arange(len(enc_seq)), lengths]\n",
        "        dec_start = self.dec_start(last_state)\n",
        "\n",
        "        inp_mask = self.inp_voc.compute_mask(inp).to(device)\n",
        "\n",
        "        attn, first_attn_probas = self.attn(enc_seq, dec_start, inp_mask)\n",
        "        first_state = [dec_start, enc_seq, inp_mask, attn, first_attn_probas]\n",
        "        return first_state\n",
        "\n",
        "    def decode_step(self, prev_state, prev_tokens, **flags):\n",
        "\n",
        "        dec_start = prev_state[0]\n",
        "        enc_seq = prev_state[1]\n",
        "        inp_mask = prev_state[2]\n",
        "        attn = prev_state[3]\n",
        "\n",
        "\n",
        "        prev_tokens_embs = self.emb_out(prev_tokens)\n",
        "\n",
        "\n",
        "        dec_start_added_attn = dec_start + attn\n",
        "\n",
        "        new_gru_activations = self.dec0(prev_tokens_embs, dec_start_added_attn)\n",
        "        attn, first_attn_probas = self.attn(enc_seq, new_gru_activations, inp_mask)\n",
        "\n",
        "        output_logits = self.logits(new_gru_activations)\n",
        "\n",
        "        new_dec_state = [new_gru_activations, enc_seq, inp_mask, attn, first_attn_probas]\n",
        "        return [new_dec_state, output_logits]"
      ],
      "metadata": {
        "id": "NCKPB5JmcE6j",
        "execution": {
          "iopub.status.busy": "2024-04-23T13:57:34.361363Z",
          "iopub.execute_input": "2024-04-23T13:57:34.361645Z",
          "iopub.status.idle": "2024-04-23T13:57:34.376449Z",
          "shell.execute_reply.started": "2024-04-23T13:57:34.361623Z",
          "shell.execute_reply": "2024-04-23T13:57:34.375587Z"
        },
        "trusted": true
      },
      "execution_count": null,
      "outputs": []
    },
    {
      "cell_type": "code",
      "source": [
        "from IPython.display import clear_output\n",
        "from tqdm import tqdm, trange\n",
        "metrics = {'train_loss': [], 'dev_bleu': [] }\n",
        "\n",
        "attn_model = AttentiveModel('attn', inp_voc, out_voc).to(device)\n",
        "opt = torch.optim.Adam(attn_model.parameters(), lr=1e-3)\n",
        "batch_size = 32"
      ],
      "metadata": {
        "id": "-YMHPgZxcFaQ",
        "execution": {
          "iopub.status.busy": "2024-04-23T13:57:34.377519Z",
          "iopub.execute_input": "2024-04-23T13:57:34.377810Z",
          "iopub.status.idle": "2024-04-23T13:57:34.416070Z",
          "shell.execute_reply.started": "2024-04-23T13:57:34.377780Z",
          "shell.execute_reply": "2024-04-23T13:57:34.415177Z"
        },
        "trusted": true
      },
      "execution_count": null,
      "outputs": []
    },
    {
      "cell_type": "code",
      "source": [
        "for _ in trange(25000):\n",
        "    step = len(metrics['train_loss']) + 1\n",
        "    batch_ix = np.random.randint(len(train_inp), size=batch_size)\n",
        "    batch_inp = inp_voc.to_matrix(train_inp[batch_ix]).to(device)\n",
        "    batch_out = out_voc.to_matrix(train_out[batch_ix]).to(device)\n",
        "\n",
        "    loss_t = compute_loss(attn_model, batch_inp, batch_out)\n",
        "    opt.zero_grad()\n",
        "    loss_t.backward()\n",
        "    opt.step()\n",
        "\n",
        "    metrics['train_loss'].append((step, loss_t.item()))\n",
        "\n",
        "    if step % 100 == 0:\n",
        "        metrics['dev_bleu'].append((step, compute_bleu(attn_model, dev_inp, dev_out)))\n",
        "\n",
        "        clear_output(True)\n",
        "        plt.figure(figsize=(12,4))\n",
        "        for i, (name, history) in enumerate(sorted(metrics.items())):\n",
        "            plt.subplot(1, len(metrics), i + 1)\n",
        "            plt.title(name)\n",
        "            plt.plot(*zip(*history))\n",
        "            plt.grid()\n",
        "        plt.show()\n",
        "        print(\"Mean loss=%.3f\" % np.mean(metrics['train_loss'][-10:], axis=0)[1], flush=True)"
      ],
      "metadata": {
        "id": "rZPH_BcFWxFL",
        "colab": {
          "base_uri": "https://localhost:8080/",
          "height": 427
        },
        "outputId": "a7efac81-a080-4421-f32b-95c896dc9056",
        "execution": {
          "iopub.status.busy": "2024-04-23T13:57:34.417168Z",
          "iopub.execute_input": "2024-04-23T13:57:34.417443Z",
          "iopub.status.idle": "2024-04-23T14:39:42.630276Z",
          "shell.execute_reply.started": "2024-04-23T13:57:34.417420Z",
          "shell.execute_reply": "2024-04-23T14:39:42.629363Z"
        },
        "trusted": true
      },
      "execution_count": null,
      "outputs": [
        {
          "output_type": "display_data",
          "data": {
            "text/plain": "<Figure size 1200x400 with 2 Axes>",
            "image/png": "[encoded data removed]"
          },
          "metadata": {}
        },
        {
          "name": "stdout",
          "text": "Mean loss=1.541\n",
          "output_type": "stream"
        },
        {
          "name": "stderr",
          "text": "100%|██████████| 25000/25000 [42:08<00:00,  9.89it/s]\n",
          "output_type": "stream"
        }
      ]
    },
    {
      "cell_type": "code",
      "source": [
        "np.mean(metrics['dev_bleu'][-10:], axis=0)[1]"
      ],
      "metadata": {
        "id": "ts4BR9YWWxFL",
        "colab": {
          "base_uri": "https://localhost:8080/"
        },
        "outputId": "28b9dc53-f42e-45b0-b9a0-11975de65a6b",
        "execution": {
          "iopub.status.busy": "2024-04-23T14:39:42.631541Z",
          "iopub.execute_input": "2024-04-23T14:39:42.631913Z",
          "iopub.status.idle": "2024-04-23T14:39:42.639201Z",
          "shell.execute_reply.started": "2024-04-23T14:39:42.631880Z",
          "shell.execute_reply": "2024-04-23T14:39:42.638337Z"
        },
        "trusted": true
      },
      "execution_count": null,
      "outputs": [
        {
          "execution_count": 72,
          "output_type": "execute_result",
          "data": {
            "text/plain": "22.81542280716281"
          },
          "metadata": {}
        }
      ]
    },
    {
      "cell_type": "markdown",
      "source": [
        "# pretrained model"
      ],
      "metadata": {
        "id": "1Wd6dfpiX0dq"
      }
    },
    {
      "cell_type": "code",
      "source": [
        "with open('train_en.txt', 'w') as f_src,  open('train_ru.txt', 'w') as f_dst:\n",
        "    for line in open('data.txt'):\n",
        "        src_line, dst_line = line.strip().split('\\t')\n",
        "        f_src.write(src_line + '\\n')\n",
        "        f_dst.write(dst_line + '\\n')"
      ],
      "metadata": {
        "id": "QdDb1ldTRt91"
      },
      "execution_count": null,
      "outputs": []
    },
    {
      "cell_type": "code",
      "source": [],
      "metadata": {
        "id": "ih_bz8__UYND"
      },
      "execution_count": null,
      "outputs": []
    },
    {
      "cell_type": "markdown",
      "source": [
        "h"
      ],
      "metadata": {
        "id": "BG1CdSLFUYe0"
      }
    },
    {
      "cell_type": "code",
      "source": [
        "import torch\n",
        "from transformers import T5ForConditionalGeneration, T5Tokenizer\n",
        "from datasets import load_metric\n",
        "from tqdm import tqdm\n",
        "\n",
        "model_name = 'utrobinmv/t5_translate_en_ru_zh_base_200'\n",
        "model = T5ForConditionalGeneration.from_pretrained(model_name)\n",
        "tokenizer = T5Tokenizer.from_pretrained(model_name)\n",
        "model.eval()\n",
        "\n",
        "device = torch.device(\"cuda\" if torch.cuda.is_available() else \"cpu\")\n",
        "model = model.to(device)\n",
        "\n",
        "bleu_metric = load_metric(\"bleu\")\n",
        "\n",
        "with open(\"train_en.txt\", \"r\", encoding=\"utf-8\") as f:\n",
        "    src_texts = f.readlines()\n",
        "with open(\"train_ru.txt\", \"r\", encoding=\"utf-8\") as f:\n",
        "    tgt_texts = f.readlines()\n",
        "\n",
        "assert len(src_texts) == len(tgt_texts)\n",
        "\n",
        "batch_size = 16"
      ],
      "metadata": {
        "colab": {
          "base_uri": "https://localhost:8080/"
        },
        "id": "MwImHXZTTX-p",
        "outputId": "e29da0b3-69a5-415f-9a3e-149bbb4ac273"
      },
      "execution_count": null,
      "outputs": [
        {
          "output_type": "stream",
          "name": "stderr",
          "text": [
            "Special tokens have been added in the vocabulary, make sure the associated word embeddings are fine-tuned or trained.\n",
            "/usr/local/lib/python3.10/dist-packages/datasets/load.py:759: FutureWarning: The repository for bleu contains custom code which must be executed to correctly load the metric. You can inspect the repository content at https://raw.githubusercontent.com/huggingface/datasets/2.19.0/metrics/bleu/bleu.py\n",
            "You can avoid this message in future by passing the argument `trust_remote_code=True`.\n",
            "Passing `trust_remote_code=True` will be mandatory to load this metric from the next major release of `datasets`.\n",
            "  warnings.warn(\n"
          ]
        }
      ]
    },
    {
      "cell_type": "code",
      "source": [
        "from tqdm import tqdm, trange\n",
        "for i in trange(0, len(src_texts), 16, desc=\"Translating\", unit=\"batch\"):\n",
        "    batch_src_texts = src_texts[i:i+batch_size]\n",
        "    batch_tgt_texts = tgt_texts[i:i+batch_size]\n",
        "\n",
        "    input_ids = tokenizer([f\"translate to ru: {text.strip()}\" for text in batch_src_texts], return_tensors=\"pt\", padding=True, truncation=True, max_length=512).input_ids\n",
        "    input_ids = input_ids.to(device)\n",
        "\n",
        "    with torch.no_grad():\n",
        "        generated_tokens = model.generate(input_ids, max_length=512)\n",
        "\n",
        "    translations = tokenizer.batch_decode(generated_tokens, skip_special_tokens=True)\n",
        "\n",
        "    for ref, translation in zip(batch_tgt_texts, translations):\n",
        "        ref_list = [ref.strip().split()]\n",
        "        pred_list = translation.split()\n",
        "        bleu_metric.add(prediction=pred_list, reference=ref_list)\n",
        "\n",
        "final_bleu_result = bleu_metric.compute()\n"
      ],
      "metadata": {
        "id": "NHP1tTF6UzBq"
      },
      "execution_count": null,
      "outputs": []
    },
    {
      "cell_type": "code",
      "source": [
        "print(f\"Mean BLEU Score: {final_bleu_result['bleu']}\")"
      ],
      "metadata": {
        "colab": {
          "base_uri": "https://localhost:8080/"
        },
        "outputId": "e07da113-b78c-4447-afda-86bcdf597b98",
        "id": "UjvBh3OUphDJ"
      },
      "execution_count": null,
      "outputs": [
        {
          "output_type": "stream",
          "name": "stdout",
          "text": [
            "Mean BLEU Score: 0.18514352802346976\n"
          ]
        }
      ]
    },
    {
      "cell_type": "markdown",
      "source": [
        "# fine-tuned model"
      ],
      "metadata": {
        "id": "zupKvIl2AJnL"
      }
    },
    {
      "cell_type": "code",
      "source": [],
      "metadata": {
        "id": "lKWcHQQ8WAC7"
      },
      "execution_count": null,
      "outputs": []
    },
    {
      "cell_type": "code",
      "execution_count": null,
      "metadata": {
        "colab": {
          "base_uri": "https://localhost:8080/"
        },
        "id": "23b7f6cf-8bcb-477a-b2a0-dde757dd6266",
        "outputId": "0f368889-a4a6-4157-f12a-8ab43953ce94"
      },
      "outputs": [
        {
          "output_type": "stream",
          "name": "stdout",
          "text": [
            "                                             english  \\\n",
            "0  Cordelia Hotel is situated in Tbilisi, a 3-min...   \n",
            "1  At Tupirmarka Lodge you will find a 24-hour fr...   \n",
            "2  Featuring free WiFi in all areas, Naigao Xiaow...   \n",
            "3  Each has a TV and a private bathroom with shower.   \n",
            "4  Your room comes with air conditioning and sate...   \n",
            "\n",
            "                                             russian  \n",
            "0  Отель Cordelia расположен в Тбилиси, в 3 минут...  \n",
            "1  В числе удобств лоджа Tupirmarka круглосуточна...  \n",
            "2  Апартаменты Naigao Xiaowo расположены в городе...  \n",
            "3  В вашем распоряжении также телевизор и собстве...  \n",
            "4  Номер оснащен кондиционером и спутниковым теле...  \n"
          ]
        }
      ],
      "source": [
        "import pandas as pd\n",
        "from tqdm.auto import tqdm\n",
        "\n",
        "data_path = 'data.txt'\n",
        "\n",
        "dataset = pd.read_csv(\n",
        "        data_path,\n",
        "        sep='\\t',\n",
        "        header=None,\n",
        "        names=['english', 'russian'],\n",
        "        engine='python',\n",
        "        quoting=3,\n",
        "        on_bad_lines='skip'\n",
        "    )\n",
        "\n",
        "print(dataset.head())\n",
        "\n"
      ]
    },
    {
      "cell_type": "code",
      "execution_count": null,
      "metadata": {
        "colab": {
          "referenced_widgets": [
            "d706b45aeb3c430da5c95ae76d403f4a",
            "3a514042f4d742bdb207d377e2188f73",
            "ac37b9868b204c51b10c19682f2a8cb5",
            "d251d6cad545454c965f5704ab455e6d",
            "3f0ca2fbd3c945ff951c21ee5ce7f270",
            "7b671248cae4437b91ad58948ec45fce",
            "878b09573cb74f359f823931ad68e4af",
            "5c684a8c84a5415780d5ed9175f505b2",
            "e70bf283f83746ac882d0cbcf8a1593b",
            "99bf46a1597c4874ab722130d1b1850a",
            "8e4d62ab178e44f0a4516b46a59a11bd"
          ]
        },
        "id": "eaed76bf-5d7a-405a-a509-df0efb8d4602",
        "outputId": "e0000dd6-f8c2-4857-b83e-0c9384e5848c"
      },
      "outputs": [
        {
          "data": {
            "application/vnd.jupyter.widget-view+json": {
              "model_id": "d706b45aeb3c430da5c95ae76d403f4a",
              "version_major": 2,
              "version_minor": 0
            },
            "text/plain": [
              "tokenizer_config.json:   0%|          | 0.00/20.8k [00:00<?, ?B/s]"
            ]
          },
          "metadata": {},
          "output_type": "display_data"
        },
        {
          "data": {
            "application/vnd.jupyter.widget-view+json": {
              "model_id": "3a514042f4d742bdb207d377e2188f73",
              "version_major": 2,
              "version_minor": 0
            },
            "text/plain": [
              "spiece.model:   0%|          | 0.00/1.47M [00:00<?, ?B/s]"
            ]
          },
          "metadata": {},
          "output_type": "display_data"
        },
        {
          "data": {
            "application/vnd.jupyter.widget-view+json": {
              "model_id": "ac37b9868b204c51b10c19682f2a8cb5",
              "version_major": 2,
              "version_minor": 0
            },
            "text/plain": [
              "added_tokens.json:   0%|          | 0.00/2.59k [00:00<?, ?B/s]"
            ]
          },
          "metadata": {},
          "output_type": "display_data"
        },
        {
          "data": {
            "application/vnd.jupyter.widget-view+json": {
              "model_id": "d251d6cad545454c965f5704ab455e6d",
              "version_major": 2,
              "version_minor": 0
            },
            "text/plain": [
              "special_tokens_map.json:   0%|          | 0.00/2.54k [00:00<?, ?B/s]"
            ]
          },
          "metadata": {},
          "output_type": "display_data"
        },
        {
          "name": "stderr",
          "output_type": "stream",
          "text": [
            "Special tokens have been added in the vocabulary, make sure the associated word embeddings are fine-tuned or trained.\n"
          ]
        },
        {
          "data": {
            "application/vnd.jupyter.widget-view+json": {
              "model_id": "3f0ca2fbd3c945ff951c21ee5ce7f270",
              "version_major": 2,
              "version_minor": 0
            },
            "text/plain": [
              "config.json:   0%|          | 0.00/810 [00:00<?, ?B/s]"
            ]
          },
          "metadata": {},
          "output_type": "display_data"
        },
        {
          "data": {
            "application/vnd.jupyter.widget-view+json": {
              "model_id": "7b671248cae4437b91ad58948ec45fce",
              "version_major": 2,
              "version_minor": 0
            },
            "text/plain": [
              "model.safetensors:   0%|          | 0.00/1.19G [00:00<?, ?B/s]"
            ]
          },
          "metadata": {},
          "output_type": "display_data"
        },
        {
          "data": {
            "application/vnd.jupyter.widget-view+json": {
              "model_id": "878b09573cb74f359f823931ad68e4af",
              "version_major": 2,
              "version_minor": 0
            },
            "text/plain": [
              "generation_config.json:   0%|          | 0.00/184 [00:00<?, ?B/s]"
            ]
          },
          "metadata": {},
          "output_type": "display_data"
        },
        {
          "data": {
            "application/vnd.jupyter.widget-view+json": {
              "model_id": "5c684a8c84a5415780d5ed9175f505b2",
              "version_major": 2,
              "version_minor": 0
            },
            "text/plain": [
              "Map:   0%|          | 0/40000 [00:00<?, ? examples/s]"
            ]
          },
          "metadata": {},
          "output_type": "display_data"
        },
        {
          "name": "stderr",
          "output_type": "stream",
          "text": [
            "/opt/conda/lib/python3.10/site-packages/transformers/tokenization_utils_base.py:3921: UserWarning: `as_target_tokenizer` is deprecated and will be removed in v5 of Transformers. You can tokenize your labels by using the argument `text_target` of the regular `__call__` method (either in the same call as your input texts if you use the same keyword arguments, or in a separate call.\n",
            "  warnings.warn(\n"
          ]
        },
        {
          "data": {
            "application/vnd.jupyter.widget-view+json": {
              "model_id": "e70bf283f83746ac882d0cbcf8a1593b",
              "version_major": 2,
              "version_minor": 0
            },
            "text/plain": [
              "Map:   0%|          | 0/10000 [00:00<?, ? examples/s]"
            ]
          },
          "metadata": {},
          "output_type": "display_data"
        },
        {
          "name": "stderr",
          "output_type": "stream",
          "text": [
            "/tmp/ipykernel_413/2580331749.py:42: FutureWarning: load_metric is deprecated and will be removed in the next major version of datasets. Use 'evaluate.load' instead, from the new library 🤗 Evaluate: https://huggingface.co/docs/evaluate\n",
            "  bleu_metric = load_metric(\"bleu\")\n",
            "/opt/conda/lib/python3.10/site-packages/datasets/load.py:759: FutureWarning: The repository for bleu contains custom code which must be executed to correctly load the metric. You can inspect the repository content at https://raw.githubusercontent.com/huggingface/datasets/2.19.0/metrics/bleu/bleu.py\n",
            "You can avoid this message in future by passing the argument `trust_remote_code=True`.\n",
            "Passing `trust_remote_code=True` will be mandatory to load this metric from the next major release of `datasets`.\n",
            "  warnings.warn(\n"
          ]
        },
        {
          "data": {
            "application/vnd.jupyter.widget-view+json": {
              "model_id": "99bf46a1597c4874ab722130d1b1850a",
              "version_major": 2,
              "version_minor": 0
            },
            "text/plain": [
              "Downloading builder script:   0%|          | 0.00/2.48k [00:00<?, ?B/s]"
            ]
          },
          "metadata": {},
          "output_type": "display_data"
        },
        {
          "data": {
            "application/vnd.jupyter.widget-view+json": {
              "model_id": "8e4d62ab178e44f0a4516b46a59a11bd",
              "version_major": 2,
              "version_minor": 0
            },
            "text/plain": [
              "Downloading extra modules:   0%|          | 0.00/1.55k [00:00<?, ?B/s]"
            ]
          },
          "metadata": {},
          "output_type": "display_data"
        }
      ],
      "source": [
        "from transformers import T5Tokenizer, T5ForConditionalGeneration, Trainer, TrainingArguments\n",
        "from datasets import load_dataset, load_metric, Dataset\n",
        "import pandas as pd\n",
        "from tqdm.auto import tqdm\n",
        "import sentencepiece\n",
        "\n",
        "model_name = \"utrobinmv/t5_translate_en_ru_zh_base_200\"\n",
        "tokenizer = T5Tokenizer.from_pretrained(model_name)\n",
        "model = T5ForConditionalGeneration.from_pretrained(model_name)\n",
        "\n",
        "\n",
        "train_dataset = dataset.sample(frac=0.8, random_state=200)\n",
        "val_dataset = dataset.drop(train_dataset.index)\n",
        "train_dataset = Dataset.from_pandas(train_dataset)\n",
        "val_dataset = Dataset.from_pandas(val_dataset)\n",
        "def tokenize_function(examples):\n",
        "    inputs = [f\"translate ru: {text}\" for text in examples['english']]\n",
        "    targets = [text for text in examples['russian']]\n",
        "    model_inputs = tokenizer(inputs, max_length=128, padding=\"max_length\", truncation=True)\n",
        "\n",
        "    with tokenizer.as_target_tokenizer():\n",
        "        labels = tokenizer(targets, max_length=128, padding=\"max_length\", truncation=True)\n",
        "\n",
        "    model_inputs[\"labels\"] = labels[\"input_ids\"]\n",
        "    return model_inputs\n",
        "\n",
        "tokenized_train_dataset = train_dataset.map(tokenize_function, batched=True)\n",
        "tokenized_val_dataset = val_dataset.map(tokenize_function, batched=True)\n",
        "\n",
        "training_args = TrainingArguments(\n",
        "    output_dir=\"./results\",\n",
        "    num_train_epochs=3,\n",
        "    per_device_train_batch_size=16,\n",
        "    gradient_accumulation_steps=4,\n",
        "    evaluation_strategy=\"steps\",\n",
        "    logging_dir='./logs',\n",
        "    save_strategy=\"no\"\n",
        ")\n",
        "\n",
        "bleu_metric = load_metric(\"bleu\")\n",
        "\n",
        "\n",
        "trainer = Trainer(\n",
        "    model=model,\n",
        "    args=training_args,\n",
        "    train_dataset=tokenized_train_dataset,\n",
        "    eval_dataset=tokenized_val_dataset,\n",
        "    tokenizer=tokenizer\n",
        ")\n",
        "\n",
        "\n"
      ]
    },
    {
      "cell_type": "code",
      "execution_count": null,
      "metadata": {
        "id": "ddfea74c-5142-4b57-ac84-92c8baa21d62",
        "outputId": "8d2a3040-eccb-4d82-a687-b8b2c067fe2d"
      },
      "outputs": [
        {
          "name": "stderr",
          "output_type": "stream",
          "text": [
            "/opt/conda/lib/python3.10/site-packages/torch/nn/parallel/_functions.py:68: UserWarning: Was asked to gather along dimension 0, but all input tensors were scalars; will instead unsqueeze and return a vector.\n",
            "  warnings.warn('Was asked to gather along dimension 0, but all '\n"
          ]
        },
        {
          "data": {
            "text/html": [
              "\n",
              "    <div>\n",
              "      \n",
              "      <progress value='468' max='468' style='width:300px; height:20px; vertical-align: middle;'></progress>\n",
              "      [468/468 43:48, Epoch 2/3]\n",
              "    </div>\n",
              "    <table border=\"1\" class=\"dataframe\">\n",
              "  <thead>\n",
              " <tr style=\"text-align: left;\">\n",
              "      <th>Step</th>\n",
              "      <th>Training Loss</th>\n",
              "      <th>Validation Loss</th>\n",
              "    </tr>\n",
              "  </thead>\n",
              "  <tbody>\n",
              "  </tbody>\n",
              "</table><p>"
            ],
            "text/plain": [
              "<IPython.core.display.HTML object>"
            ]
          },
          "metadata": {},
          "output_type": "display_data"
        },
        {
          "data": {
            "text/plain": [
              "('./trained_model/tokenizer_config.json',\n",
              " './trained_model/special_tokens_map.json',\n",
              " './trained_model/spiece.model',\n",
              " './trained_model/added_tokens.json')"
            ]
          },
          "execution_count": 4,
          "metadata": {},
          "output_type": "execute_result"
        }
      ],
      "source": [
        "trainer.train()\n",
        "\n",
        "model.save_pretrained(\"./trained_model\")\n",
        "tokenizer.save_pretrained(\"./trained_model\")"
      ]
    },
    {
      "cell_type": "code",
      "execution_count": null,
      "metadata": {
        "id": "03e19f64-d34e-408f-81fe-70d6b62155f9",
        "outputId": "4ddce4f8-6680-4de1-96e2-3a97eacdbf90"
      },
      "outputs": [
        {
          "name": "stderr",
          "output_type": "stream",
          "text": [
            "Special tokens have been added in the vocabulary, make sure the associated word embeddings are fine-tuned or trained.\n"
          ]
        }
      ],
      "source": [
        "from transformers import T5ForConditionalGeneration, T5Tokenizer\n",
        "\n",
        "model_path = \"./trained_model\"  # Adjust this path if your model is saved in a different directory\n",
        "model = T5ForConditionalGeneration.from_pretrained(model_path)\n",
        "tokenizer = T5Tokenizer.from_pretrained(model_path)\n"
      ]
    },
    {
      "cell_type": "code",
      "execution_count": null,
      "metadata": {
        "id": "fabe9d96-4c66-4848-8e00-9d25b290aa2f"
      },
      "outputs": [],
      "source": [
        "import pandas as pd\n",
        "from torch.utils.data import Dataset, DataLoader\n",
        "import torch\n",
        "\n",
        "dataset = val_dataset\n",
        "\n",
        "class TranslationDataset(Dataset):\n",
        "    def __init__(self, dataframe, tokenizer, max_length=512):\n",
        "        self.dataframe = dataframe\n",
        "        self.tokenizer = tokenizer\n",
        "        self.max_length = max_length\n",
        "\n",
        "    def __len__(self):\n",
        "        return len(self.dataframe)\n",
        "\n",
        "    def __getitem__(self, idx):\n",
        "        item = self.dataframe.iloc[idx]\n",
        "        source_text = \"translate to ru: \" + item['english']\n",
        "        target_text = item['russian']\n",
        "\n",
        "        # Tokenize the source text\n",
        "        source_encoded = self.tokenizer(\n",
        "            source_text,\n",
        "            max_length=self.max_length,\n",
        "            padding='max_length',\n",
        "            truncation=True,\n",
        "            return_tensors=\"pt\"\n",
        "        )\n",
        "\n",
        "        # Tokenize the target text\n",
        "        target_encoded = self.tokenizer(\n",
        "            target_text,\n",
        "            max_length=self.max_length,\n",
        "            padding='max_length',\n",
        "            truncation=True,\n",
        "            return_tensors=\"pt\"\n",
        "        )\n",
        "\n",
        "        return {\n",
        "            \"input_ids\": source_encoded.input_ids.squeeze(0),\n",
        "            \"attention_mask\": source_encoded.attention_mask.squeeze(0),\n",
        "            \"labels\": target_encoded.input_ids.squeeze(0)\n",
        "        }\n",
        "\n",
        "# Create dataset and DataLoader\n",
        "translation_dataset = TranslationDataset(dataset, tokenizer)\n",
        "eval_dataloader = DataLoader(translation_dataset, batch_size=16)\n"
      ]
    },
    {
      "cell_type": "code",
      "execution_count": null,
      "metadata": {
        "colab": {
          "referenced_widgets": [
            "0775244d87aa4f218378c0974e4e3259"
          ]
        },
        "id": "a1acfb69-9f40-4d37-bdd0-cc00c0d3da15",
        "outputId": "e19c4716-9933-4a9c-cb5a-883b0bb26d5e"
      },
      "outputs": [
        {
          "data": {
            "application/vnd.jupyter.widget-view+json": {
              "model_id": "0775244d87aa4f218378c0974e4e3259",
              "version_major": 2,
              "version_minor": 0
            },
            "text/plain": [
              "  0%|          | 0/625 [00:00<?, ?it/s]"
            ]
          },
          "metadata": {},
          "output_type": "display_data"
        },
        {
          "name": "stdout",
          "output_type": "stream",
          "text": [
            "BLEU score: 0.31091058332355676\n"
          ]
        }
      ],
      "source": [
        "from datasets import load_metric\n",
        "\n",
        "bleu_metric = load_metric(\"bleu\", trust_remote_code=True)\n",
        "model.eval()\n",
        "device = torch.device(\"cuda\" if torch.cuda.is_available() else \"cpu\")\n",
        "model.to(device)\n",
        "for batch in tqdm(eval_dataloader):\n",
        "    input_ids = batch['input_ids'].to(device)\n",
        "    attention_mask = batch['attention_mask'].to(device)\n",
        "\n",
        "    with torch.no_grad():\n",
        "        # Generate output sequences without providing decoder_input_ids\n",
        "        outputs = model.generate(input_ids=input_ids, attention_mask=attention_mask)\n",
        "\n",
        "    # Decode predictions\n",
        "    decoded_preds = tokenizer.batch_decode(outputs, skip_special_tokens=True)\n",
        "    decoded_labels = tokenizer.batch_decode(batch['labels'].to(device), skip_special_tokens=True)\n",
        "\n",
        "    # Format data for BLEU score evaluation\n",
        "    references = [[label.split()] for label in decoded_labels]\n",
        "    predictions = [pred.split() for pred in decoded_preds]\n",
        "\n",
        "    bleu_metric.add_batch(predictions=predictions, references=references)\n",
        "\n",
        "bleu_score = bleu_metric.compute()\n",
        "print(f\"BLEU score: {bleu_score['bleu']}\")\n"
      ]
    },
    {
      "cell_type": "markdown",
      "source": [
        "basic conclusion:\n",
        "without attention models are the fastest, but give the low-quality result, attention was the hardest to implement and fine-tuning was the most beautiful option to me\n",
        "p.s. i was shocked from the default batch_size=256 :)"
      ],
      "metadata": {
        "id": "fap-ZZ2ZraGM"
      }
    }
  ],
  "metadata": {
    "anaconda-cloud": {},
    "colab": {
      "provenance": [],
      "gpuType": "T4",
      "collapsed_sections": [
        "GahOX3ElDWBi",
        "1Wd6dfpiX0dq"
      ]
    },
    "kernelspec": {
      "display_name": "Py3 Research",
      "language": "python",
      "name": "py3_research_kernel"
    },
    "language_info": {
      "codemirror_mode": {
        "name": "ipython",
        "version": 3
      },
      "file_extension": ".py",
      "mimetype": "text/x-python",
      "name": "python",
      "nbconvert_exporter": "python",
      "pygments_lexer": "ipython3",
      "version": "3.9.7"
    },
    "accelerator": "GPU",
    "widgets": {
      "application/vnd.jupyter.widget-state+json": {}
    }
  },
  "nbformat": 4,
  "nbformat_minor": 0
}